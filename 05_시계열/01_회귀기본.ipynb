{
 "cells": [
  {
   "cell_type": "code",
   "execution_count": 1,
   "id": "30463caf-3bc2-4455-a14d-b9670db6bbfe",
   "metadata": {
    "tags": []
   },
   "outputs": [],
   "source": [
    "import numpy as np\n",
    "import matplotlib.pyplot as plt"
   ]
  },
  {
   "cell_type": "code",
   "execution_count": 5,
   "id": "d6d576b1-7028-4ef2-a4e5-b4a73c68e559",
   "metadata": {
    "collapsed": true,
    "jupyter": {
     "outputs_hidden": true
    },
    "tags": []
   },
   "outputs": [
    {
     "data": {
      "text/plain": [
       "<matplotlib.collections.PathCollection at 0x1f418ecc050>"
      ]
     },
     "execution_count": 5,
     "metadata": {},
     "output_type": "execute_result"
    },
    {
     "data": {
      "image/png": "[encoded data removed]",
      "text/plain": [
       "<Figure size 640x480 with 1 Axes>"
      ]
     },
     "metadata": {},
     "output_type": "display_data"
    }
   ],
   "source": [
    "np.random.seed(0)\n",
    "# y =  w*x+b ->  y= 4x + 6\n",
    "x = 2 * np.random.rand(100,1) \n",
    "# x.shape\n",
    "y = 6 + 4 * x + np.random.randn(100,1)\n",
    "\n",
    "plt.scatter(x,y)"
   ]
  },
  {
   "cell_type": "code",
   "execution_count": 6,
   "id": "f4d0d6f0-7000-4922-84e4-0110ccb86056",
   "metadata": {
    "tags": []
   },
   "outputs": [],
   "source": [
    "def get_cost(y,y_pred):\n",
    "    n = len(y)\n",
    "    cost = np.sum(np.square(y-y_pred))/n\n",
    "    return cost"
   ]
  },
  {
   "cell_type": "markdown",
   "id": "5370d02c-71af-4406-ad97-13d025359fd5",
   "metadata": {},
   "source": [
    "![편미분](img/편미분.png)"
   ]
  },
  {
   "cell_type": "code",
   "execution_count": 7,
   "id": "b1eb7a06-b43a-4ac1-8814-8c35da496a58",
   "metadata": {
    "tags": []
   },
   "outputs": [],
   "source": [
    "def get_weight_update(w1,w0,x,y,learning_rate=0.01):\n",
    "    n = len(y)\n",
    "    w1_update = np.zeros_like(w1)\n",
    "    w0_update = np.zeros_like(w0)\n",
    "    y_pred = np.dot(x,w1.T) + w0\n",
    "    diff = y-y_pred\n",
    "    w0_factors = np.ones((n,1))\n",
    "    w1_update = -(2/n)*learning_rate*(np.dot(x.T,diff))\n",
    "    w0_update = -(2/n)*learning_rate*(np.dot(w0_factors.T,diff))\n",
    "    return w1_update,w0_update    "
   ]
  },
  {
   "cell_type": "markdown",
   "id": "e6b0dc94-e6cd-440d-beee-fb066a9ecf95",
   "metadata": {
    "tags": []
   },
   "source": [
    "![행렬곱](img/행렬곱.png)"
   ]
  },
  {
   "cell_type": "code",
   "execution_count": 34,
   "id": "28abfebc-0c49-4849-81c9-a4b5da690c20",
   "metadata": {
    "tags": []
   },
   "outputs": [],
   "source": [
    "def gradient_descent_steps(x,y,iters=10000):\n",
    "    w0 = np.zeros((1,1))\n",
    "    w1 = np.zeros((1,1))\n",
    "    for ind in range(iters):\n",
    "        w1_update,w0_update = get_weight_update(w1,w0,x,y,learning_rate=0.001)\n",
    "        w1 = w1 - w1_update\n",
    "        w0 = w0 - w0_update\n",
    "    return w1,w0"
   ]
  },
  {
   "cell_type": "code",
   "execution_count": 35,
   "id": "690f62c6-adc5-4787-a487-31e4d1573a0f",
   "metadata": {
    "tags": []
   },
   "outputs": [
    {
     "name": "stdout",
     "output_type": "stream",
     "text": [
      "w1:[[4.02206357]] , w0:[[6.16174956]]\n"
     ]
    }
   ],
   "source": [
    "w1,w0 = gradient_descent_steps(x,y,iters=10000)\n",
    "print(f'w1:{w1} , w0:{w0}')"
   ]
  },
  {
   "cell_type": "code",
   "execution_count": null,
   "id": "83f7202d-baba-4191-9edf-94d0d5795a51",
   "metadata": {},
   "outputs": [],
   "source": []
  }
 ],
 "metadata": {
  "kernelspec": {
   "display_name": "Python 3 (ipykernel)",
   "language": "python",
   "name": "python3"
  },
  "language_info": {
   "codemirror_mode": {
    "name": "ipython",
    "version": 3
   },
   "file_extension": ".py",
   "mimetype": "text/x-python",
   "name": "python",
   "nbconvert_exporter": "python",
   "pygments_lexer": "ipython3",
   "version": "3.11.1"
  }
 },
 "nbformat": 4,
 "nbformat_minor": 5
}
