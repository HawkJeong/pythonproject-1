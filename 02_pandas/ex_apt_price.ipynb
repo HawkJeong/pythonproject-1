{
 "cells": [
  {
   "cell_type": "code",
   "execution_count": 1,
   "id": "f3b08968-a182-4bcb-aaee-ad603825ca05",
   "metadata": {
    "tags": []
   },
   "outputs": [],
   "source": [
    "import pandas as pd\n",
    "import numpy as np"
   ]
  },
  {
   "cell_type": "code",
   "execution_count": 4,
   "id": "1b856462-c4c2-4c13-ae87-65c87fb0738b",
   "metadata": {
    "tags": []
   },
   "outputs": [],
   "source": [
    "first_df = pd.read_csv('data/전국_평균_분양가격(2013년_9월부터_2015년_8월까지).csv',encoding='cp949')"
   ]
  },
  {
   "cell_type": "code",
   "execution_count": 5,
   "id": "fae2f97f-62e2-4273-b3ae-500260cf8599",
   "metadata": {
    "collapsed": true,
    "jupyter": {
     "outputs_hidden": true
    },
    "tags": []
   },
   "outputs": [
    {
     "name": "stdout",
     "output_type": "stream",
     "text": [
      "<class 'pandas.core.frame.DataFrame'>\n",
      "RangeIndex: 17 entries, 0 to 16\n",
      "Data columns (total 22 columns):\n",
      " #   Column    Non-Null Count  Dtype \n",
      "---  ------    --------------  ----- \n",
      " 0   지역        17 non-null     object\n",
      " 1   2013년12월  17 non-null     int64 \n",
      " 2   2014년1월   17 non-null     int64 \n",
      " 3   2014년2월   17 non-null     int64 \n",
      " 4   2014년3월   17 non-null     int64 \n",
      " 5   2014년4월   17 non-null     int64 \n",
      " 6   2014년5월   17 non-null     int64 \n",
      " 7   2014년6월   17 non-null     int64 \n",
      " 8   2014년7월   17 non-null     int64 \n",
      " 9   2014년8월   17 non-null     int64 \n",
      " 10  2014년9월   17 non-null     int64 \n",
      " 11  2014년10월  17 non-null     int64 \n",
      " 12  2014년11월  17 non-null     int64 \n",
      " 13  2014년12월  17 non-null     int64 \n",
      " 14  2015년1월   17 non-null     int64 \n",
      " 15  2015년2월   17 non-null     int64 \n",
      " 16  2015년3월   17 non-null     int64 \n",
      " 17  2015년4월   17 non-null     int64 \n",
      " 18  2015년5월   17 non-null     int64 \n",
      " 19  2015년6월   17 non-null     int64 \n",
      " 20  2015년7월   17 non-null     int64 \n",
      " 21  2015년8월   17 non-null     int64 \n",
      "dtypes: int64(21), object(1)\n",
      "memory usage: 3.0+ KB\n"
     ]
    }
   ],
   "source": [
    "first_df.info()"
   ]
  },
  {
   "cell_type": "code",
   "execution_count": 8,
   "id": "a213c581-8a5a-4c91-ac79-61f245e7d979",
   "metadata": {
    "tags": []
   },
   "outputs": [],
   "source": [
    "last_df = pd.read_csv('data/주택도시보증공사_전국_평균_분양가격(2019년_12월).csv',encoding='cp949')"
   ]
  },
  {
   "cell_type": "code",
   "execution_count": 9,
   "id": "445faab7-1068-4b72-bad0-aac425af5961",
   "metadata": {
    "tags": []
   },
   "outputs": [
    {
     "name": "stdout",
     "output_type": "stream",
     "text": [
      "<class 'pandas.core.frame.DataFrame'>\n",
      "RangeIndex: 4335 entries, 0 to 4334\n",
      "Data columns (total 5 columns):\n",
      " #   Column   Non-Null Count  Dtype \n",
      "---  ------   --------------  ----- \n",
      " 0   지역명      4335 non-null   object\n",
      " 1   규모구분     4335 non-null   object\n",
      " 2   연도       4335 non-null   int64 \n",
      " 3   월        4335 non-null   int64 \n",
      " 4   분양가격(㎡)  4058 non-null   object\n",
      "dtypes: int64(2), object(3)\n",
      "memory usage: 169.5+ KB\n"
     ]
    }
   ],
   "source": [
    "last_df.info()"
   ]
  },
  {
   "cell_type": "code",
   "execution_count": 10,
   "id": "824da168-8648-4222-8ab3-3cefa3a9f4d4",
   "metadata": {
    "collapsed": true,
    "jupyter": {
     "outputs_hidden": true
    },
    "tags": []
   },
   "outputs": [
    {
     "data": {
      "text/html": [
       "<div>\n",
       "<style scoped>\n",
       "    .dataframe tbody tr th:only-of-type {\n",
       "        vertical-align: middle;\n",
       "    }\n",
       "\n",
       "    .dataframe tbody tr th {\n",
       "        vertical-align: top;\n",
       "    }\n",
       "\n",
       "    .dataframe thead th {\n",
       "        text-align: right;\n",
       "    }\n",
       "</style>\n",
       "<table border=\"1\" class=\"dataframe\">\n",
       "  <thead>\n",
       "    <tr style=\"text-align: right;\">\n",
       "      <th></th>\n",
       "      <th>지역명</th>\n",
       "      <th>규모구분</th>\n",
       "      <th>연도</th>\n",
       "      <th>월</th>\n",
       "      <th>분양가격(㎡)</th>\n",
       "    </tr>\n",
       "  </thead>\n",
       "  <tbody>\n",
       "    <tr>\n",
       "      <th>0</th>\n",
       "      <td>서울</td>\n",
       "      <td>전체</td>\n",
       "      <td>2015</td>\n",
       "      <td>10</td>\n",
       "      <td>5841</td>\n",
       "    </tr>\n",
       "    <tr>\n",
       "      <th>1</th>\n",
       "      <td>서울</td>\n",
       "      <td>전용면적 60㎡이하</td>\n",
       "      <td>2015</td>\n",
       "      <td>10</td>\n",
       "      <td>5652</td>\n",
       "    </tr>\n",
       "  </tbody>\n",
       "</table>\n",
       "</div>"
      ],
      "text/plain": [
       "  지역명        규모구분    연도   월 분양가격(㎡)\n",
       "0  서울          전체  2015  10    5841\n",
       "1  서울  전용면적 60㎡이하  2015  10    5652"
      ]
     },
     "execution_count": 10,
     "metadata": {},
     "output_type": "execute_result"
    }
   ],
   "source": [
    "last_df.head(2)"
   ]
  },
  {
   "cell_type": "code",
   "execution_count": 11,
   "id": "a63f5833-0411-4da5-b164-fbd56b7e3eed",
   "metadata": {
    "tags": []
   },
   "outputs": [
    {
     "data": {
      "text/html": [
       "<div>\n",
       "<style scoped>\n",
       "    .dataframe tbody tr th:only-of-type {\n",
       "        vertical-align: middle;\n",
       "    }\n",
       "\n",
       "    .dataframe tbody tr th {\n",
       "        vertical-align: top;\n",
       "    }\n",
       "\n",
       "    .dataframe thead th {\n",
       "        text-align: right;\n",
       "    }\n",
       "</style>\n",
       "<table border=\"1\" class=\"dataframe\">\n",
       "  <thead>\n",
       "    <tr style=\"text-align: right;\">\n",
       "      <th></th>\n",
       "      <th>지역</th>\n",
       "      <th>2013년12월</th>\n",
       "      <th>2014년1월</th>\n",
       "      <th>2014년2월</th>\n",
       "      <th>2014년3월</th>\n",
       "      <th>2014년4월</th>\n",
       "      <th>2014년5월</th>\n",
       "      <th>2014년6월</th>\n",
       "      <th>2014년7월</th>\n",
       "      <th>2014년8월</th>\n",
       "      <th>...</th>\n",
       "      <th>2014년11월</th>\n",
       "      <th>2014년12월</th>\n",
       "      <th>2015년1월</th>\n",
       "      <th>2015년2월</th>\n",
       "      <th>2015년3월</th>\n",
       "      <th>2015년4월</th>\n",
       "      <th>2015년5월</th>\n",
       "      <th>2015년6월</th>\n",
       "      <th>2015년7월</th>\n",
       "      <th>2015년8월</th>\n",
       "    </tr>\n",
       "  </thead>\n",
       "  <tbody>\n",
       "    <tr>\n",
       "      <th>0</th>\n",
       "      <td>서울</td>\n",
       "      <td>18189</td>\n",
       "      <td>17925</td>\n",
       "      <td>17925</td>\n",
       "      <td>18016</td>\n",
       "      <td>18098</td>\n",
       "      <td>19446</td>\n",
       "      <td>18867</td>\n",
       "      <td>18742</td>\n",
       "      <td>19274</td>\n",
       "      <td>...</td>\n",
       "      <td>20242</td>\n",
       "      <td>20269</td>\n",
       "      <td>20670</td>\n",
       "      <td>20670</td>\n",
       "      <td>19415</td>\n",
       "      <td>18842</td>\n",
       "      <td>18367</td>\n",
       "      <td>18374</td>\n",
       "      <td>18152</td>\n",
       "      <td>18443</td>\n",
       "    </tr>\n",
       "    <tr>\n",
       "      <th>1</th>\n",
       "      <td>부산</td>\n",
       "      <td>8111</td>\n",
       "      <td>8111</td>\n",
       "      <td>9078</td>\n",
       "      <td>8965</td>\n",
       "      <td>9402</td>\n",
       "      <td>9501</td>\n",
       "      <td>9453</td>\n",
       "      <td>9457</td>\n",
       "      <td>9411</td>\n",
       "      <td>...</td>\n",
       "      <td>9208</td>\n",
       "      <td>9208</td>\n",
       "      <td>9204</td>\n",
       "      <td>9235</td>\n",
       "      <td>9279</td>\n",
       "      <td>9327</td>\n",
       "      <td>9345</td>\n",
       "      <td>9515</td>\n",
       "      <td>9559</td>\n",
       "      <td>9581</td>\n",
       "    </tr>\n",
       "  </tbody>\n",
       "</table>\n",
       "<p>2 rows × 22 columns</p>\n",
       "</div>"
      ],
      "text/plain": [
       "   지역  2013년12월  2014년1월  2014년2월  2014년3월  2014년4월  2014년5월  2014년6월   \n",
       "0  서울     18189    17925    17925    18016    18098    19446    18867  \\\n",
       "1  부산      8111     8111     9078     8965     9402     9501     9453   \n",
       "\n",
       "   2014년7월  2014년8월  ...  2014년11월  2014년12월  2015년1월  2015년2월  2015년3월   \n",
       "0    18742    19274  ...     20242     20269    20670    20670    19415  \\\n",
       "1     9457     9411  ...      9208      9208     9204     9235     9279   \n",
       "\n",
       "   2015년4월  2015년5월  2015년6월  2015년7월  2015년8월  \n",
       "0    18842    18367    18374    18152    18443  \n",
       "1     9327     9345     9515     9559     9581  \n",
       "\n",
       "[2 rows x 22 columns]"
      ]
     },
     "execution_count": 11,
     "metadata": {},
     "output_type": "execute_result"
    }
   ],
   "source": [
    "first_df.head(2)"
   ]
  },
  {
   "cell_type": "code",
   "execution_count": 12,
   "id": "7d72a381-a03a-4db0-92b5-4517a7e253ad",
   "metadata": {
    "tags": []
   },
   "outputs": [
    {
     "data": {
      "text/plain": [
       "지역명          0\n",
       "규모구분         0\n",
       "연도           0\n",
       "월            0\n",
       "분양가격(㎡)    277\n",
       "dtype: int64"
      ]
     },
     "execution_count": 12,
     "metadata": {},
     "output_type": "execute_result"
    }
   ],
   "source": [
    "last_df.isnull().sum()"
   ]
  },
  {
   "cell_type": "code",
   "execution_count": 13,
   "id": "2f4c0838-ea60-4671-9390-6359b9a4f31e",
   "metadata": {
    "tags": []
   },
   "outputs": [
    {
     "data": {
      "text/plain": [
       "True"
      ]
     },
     "execution_count": 13,
     "metadata": {},
     "output_type": "execute_result"
    }
   ],
   "source": [
    "True == 1"
   ]
  },
  {
   "cell_type": "code",
   "execution_count": 14,
   "id": "ed6a0e25-a453-4efc-b5b4-8d4e1cf9a73c",
   "metadata": {
    "tags": []
   },
   "outputs": [
    {
     "data": {
      "text/plain": [
       "True"
      ]
     },
     "execution_count": 14,
     "metadata": {},
     "output_type": "execute_result"
    }
   ],
   "source": [
    "False == 0"
   ]
  },
  {
   "cell_type": "code",
   "execution_count": 15,
   "id": "daa4447e-9eb0-4f09-8da0-2d69f22a8f25",
   "metadata": {
    "tags": []
   },
   "outputs": [
    {
     "data": {
      "text/plain": [
       "2"
      ]
     },
     "execution_count": 15,
     "metadata": {},
     "output_type": "execute_result"
    }
   ],
   "source": [
    "True + True + False "
   ]
  },
  {
   "cell_type": "code",
   "execution_count": 16,
   "id": "9e484305-56fc-4b39-9da0-5683e3f1b453",
   "metadata": {
    "collapsed": true,
    "jupyter": {
     "outputs_hidden": true
    },
    "tags": []
   },
   "outputs": [
    {
     "data": {
      "text/plain": [
       "지역          0\n",
       "2013년12월    0\n",
       "2014년1월     0\n",
       "2014년2월     0\n",
       "2014년3월     0\n",
       "2014년4월     0\n",
       "2014년5월     0\n",
       "2014년6월     0\n",
       "2014년7월     0\n",
       "2014년8월     0\n",
       "2014년9월     0\n",
       "2014년10월    0\n",
       "2014년11월    0\n",
       "2014년12월    0\n",
       "2015년1월     0\n",
       "2015년2월     0\n",
       "2015년3월     0\n",
       "2015년4월     0\n",
       "2015년5월     0\n",
       "2015년6월     0\n",
       "2015년7월     0\n",
       "2015년8월     0\n",
       "dtype: int64"
      ]
     },
     "execution_count": 16,
     "metadata": {},
     "output_type": "execute_result"
    }
   ],
   "source": [
    "first_df.isnull().sum()"
   ]
  },
  {
   "cell_type": "code",
   "execution_count": 17,
   "id": "7f3b5eb4-1b03-4e73-8fc4-c09edd2a674a",
   "metadata": {
    "tags": []
   },
   "outputs": [
    {
     "name": "stdout",
     "output_type": "stream",
     "text": [
      "<class 'pandas.core.frame.DataFrame'>\n",
      "RangeIndex: 4335 entries, 0 to 4334\n",
      "Data columns (total 5 columns):\n",
      " #   Column   Non-Null Count  Dtype \n",
      "---  ------   --------------  ----- \n",
      " 0   지역명      4335 non-null   object\n",
      " 1   규모구분     4335 non-null   object\n",
      " 2   연도       4335 non-null   int64 \n",
      " 3   월        4335 non-null   int64 \n",
      " 4   분양가격(㎡)  4058 non-null   object\n",
      "dtypes: int64(2), object(3)\n",
      "memory usage: 169.5+ KB\n"
     ]
    }
   ],
   "source": [
    "last_df.info()"
   ]
  },
  {
   "cell_type": "code",
   "execution_count": 18,
   "id": "6f5f7e6b-909d-46f3-b96e-0ef1f78f51f7",
   "metadata": {
    "collapsed": true,
    "jupyter": {
     "outputs_hidden": true
    },
    "tags": []
   },
   "outputs": [
    {
     "ename": "ValueError",
     "evalue": "could not convert string to float: '  '",
     "output_type": "error",
     "traceback": [
      "\u001b[1;31m---------------------------------------------------------------------------\u001b[0m",
      "\u001b[1;31mValueError\u001b[0m                                Traceback (most recent call last)",
      "Cell \u001b[1;32mIn[18], line 1\u001b[0m\n\u001b[1;32m----> 1\u001b[0m \u001b[43mlast_df\u001b[49m\u001b[43m[\u001b[49m\u001b[38;5;124;43m'\u001b[39;49m\u001b[38;5;124;43m분양가격(㎡)\u001b[39;49m\u001b[38;5;124;43m'\u001b[39;49m\u001b[43m]\u001b[49m\u001b[38;5;241;43m.\u001b[39;49m\u001b[43mastype\u001b[49m\u001b[43m(\u001b[49m\u001b[38;5;28;43mfloat\u001b[39;49m\u001b[43m)\u001b[49m\n",
      "File \u001b[1;32m~\\AppData\\Local\\Programs\\Python\\Python311\\Lib\\site-packages\\pandas\\core\\generic.py:6324\u001b[0m, in \u001b[0;36mNDFrame.astype\u001b[1;34m(self, dtype, copy, errors)\u001b[0m\n\u001b[0;32m   6317\u001b[0m     results \u001b[38;5;241m=\u001b[39m [\n\u001b[0;32m   6318\u001b[0m         \u001b[38;5;28mself\u001b[39m\u001b[38;5;241m.\u001b[39miloc[:, i]\u001b[38;5;241m.\u001b[39mastype(dtype, copy\u001b[38;5;241m=\u001b[39mcopy)\n\u001b[0;32m   6319\u001b[0m         \u001b[38;5;28;01mfor\u001b[39;00m i \u001b[38;5;129;01min\u001b[39;00m \u001b[38;5;28mrange\u001b[39m(\u001b[38;5;28mlen\u001b[39m(\u001b[38;5;28mself\u001b[39m\u001b[38;5;241m.\u001b[39mcolumns))\n\u001b[0;32m   6320\u001b[0m     ]\n\u001b[0;32m   6322\u001b[0m \u001b[38;5;28;01melse\u001b[39;00m:\n\u001b[0;32m   6323\u001b[0m     \u001b[38;5;66;03m# else, only a single dtype is given\u001b[39;00m\n\u001b[1;32m-> 6324\u001b[0m     new_data \u001b[38;5;241m=\u001b[39m \u001b[38;5;28;43mself\u001b[39;49m\u001b[38;5;241;43m.\u001b[39;49m\u001b[43m_mgr\u001b[49m\u001b[38;5;241;43m.\u001b[39;49m\u001b[43mastype\u001b[49m\u001b[43m(\u001b[49m\u001b[43mdtype\u001b[49m\u001b[38;5;241;43m=\u001b[39;49m\u001b[43mdtype\u001b[49m\u001b[43m,\u001b[49m\u001b[43m \u001b[49m\u001b[43mcopy\u001b[49m\u001b[38;5;241;43m=\u001b[39;49m\u001b[43mcopy\u001b[49m\u001b[43m,\u001b[49m\u001b[43m \u001b[49m\u001b[43merrors\u001b[49m\u001b[38;5;241;43m=\u001b[39;49m\u001b[43merrors\u001b[49m\u001b[43m)\u001b[49m\n\u001b[0;32m   6325\u001b[0m     \u001b[38;5;28;01mreturn\u001b[39;00m \u001b[38;5;28mself\u001b[39m\u001b[38;5;241m.\u001b[39m_constructor(new_data)\u001b[38;5;241m.\u001b[39m__finalize__(\u001b[38;5;28mself\u001b[39m, method\u001b[38;5;241m=\u001b[39m\u001b[38;5;124m\"\u001b[39m\u001b[38;5;124mastype\u001b[39m\u001b[38;5;124m\"\u001b[39m)\n\u001b[0;32m   6327\u001b[0m \u001b[38;5;66;03m# GH 33113: handle empty frame or series\u001b[39;00m\n",
      "File \u001b[1;32m~\\AppData\\Local\\Programs\\Python\\Python311\\Lib\\site-packages\\pandas\\core\\internals\\managers.py:451\u001b[0m, in \u001b[0;36mBaseBlockManager.astype\u001b[1;34m(self, dtype, copy, errors)\u001b[0m\n\u001b[0;32m    448\u001b[0m \u001b[38;5;28;01melif\u001b[39;00m using_copy_on_write():\n\u001b[0;32m    449\u001b[0m     copy \u001b[38;5;241m=\u001b[39m \u001b[38;5;28;01mFalse\u001b[39;00m\n\u001b[1;32m--> 451\u001b[0m \u001b[38;5;28;01mreturn\u001b[39;00m \u001b[38;5;28;43mself\u001b[39;49m\u001b[38;5;241;43m.\u001b[39;49m\u001b[43mapply\u001b[49m\u001b[43m(\u001b[49m\n\u001b[0;32m    452\u001b[0m \u001b[43m    \u001b[49m\u001b[38;5;124;43m\"\u001b[39;49m\u001b[38;5;124;43mastype\u001b[39;49m\u001b[38;5;124;43m\"\u001b[39;49m\u001b[43m,\u001b[49m\n\u001b[0;32m    453\u001b[0m \u001b[43m    \u001b[49m\u001b[43mdtype\u001b[49m\u001b[38;5;241;43m=\u001b[39;49m\u001b[43mdtype\u001b[49m\u001b[43m,\u001b[49m\n\u001b[0;32m    454\u001b[0m \u001b[43m    \u001b[49m\u001b[43mcopy\u001b[49m\u001b[38;5;241;43m=\u001b[39;49m\u001b[43mcopy\u001b[49m\u001b[43m,\u001b[49m\n\u001b[0;32m    455\u001b[0m \u001b[43m    \u001b[49m\u001b[43merrors\u001b[49m\u001b[38;5;241;43m=\u001b[39;49m\u001b[43merrors\u001b[49m\u001b[43m,\u001b[49m\n\u001b[0;32m    456\u001b[0m \u001b[43m    \u001b[49m\u001b[43musing_cow\u001b[49m\u001b[38;5;241;43m=\u001b[39;49m\u001b[43musing_copy_on_write\u001b[49m\u001b[43m(\u001b[49m\u001b[43m)\u001b[49m\u001b[43m,\u001b[49m\n\u001b[0;32m    457\u001b[0m \u001b[43m\u001b[49m\u001b[43m)\u001b[49m\n",
      "File \u001b[1;32m~\\AppData\\Local\\Programs\\Python\\Python311\\Lib\\site-packages\\pandas\\core\\internals\\managers.py:352\u001b[0m, in \u001b[0;36mBaseBlockManager.apply\u001b[1;34m(self, f, align_keys, **kwargs)\u001b[0m\n\u001b[0;32m    350\u001b[0m         applied \u001b[38;5;241m=\u001b[39m b\u001b[38;5;241m.\u001b[39mapply(f, \u001b[38;5;241m*\u001b[39m\u001b[38;5;241m*\u001b[39mkwargs)\n\u001b[0;32m    351\u001b[0m     \u001b[38;5;28;01melse\u001b[39;00m:\n\u001b[1;32m--> 352\u001b[0m         applied \u001b[38;5;241m=\u001b[39m \u001b[38;5;28;43mgetattr\u001b[39;49m\u001b[43m(\u001b[49m\u001b[43mb\u001b[49m\u001b[43m,\u001b[49m\u001b[43m \u001b[49m\u001b[43mf\u001b[49m\u001b[43m)\u001b[49m\u001b[43m(\u001b[49m\u001b[38;5;241;43m*\u001b[39;49m\u001b[38;5;241;43m*\u001b[39;49m\u001b[43mkwargs\u001b[49m\u001b[43m)\u001b[49m\n\u001b[0;32m    353\u001b[0m     result_blocks \u001b[38;5;241m=\u001b[39m extend_blocks(applied, result_blocks)\n\u001b[0;32m    355\u001b[0m out \u001b[38;5;241m=\u001b[39m \u001b[38;5;28mtype\u001b[39m(\u001b[38;5;28mself\u001b[39m)\u001b[38;5;241m.\u001b[39mfrom_blocks(result_blocks, \u001b[38;5;28mself\u001b[39m\u001b[38;5;241m.\u001b[39maxes)\n",
      "File \u001b[1;32m~\\AppData\\Local\\Programs\\Python\\Python311\\Lib\\site-packages\\pandas\\core\\internals\\blocks.py:511\u001b[0m, in \u001b[0;36mBlock.astype\u001b[1;34m(self, dtype, copy, errors, using_cow)\u001b[0m\n\u001b[0;32m    491\u001b[0m \u001b[38;5;250m\u001b[39m\u001b[38;5;124;03m\"\"\"\u001b[39;00m\n\u001b[0;32m    492\u001b[0m \u001b[38;5;124;03mCoerce to the new dtype.\u001b[39;00m\n\u001b[0;32m    493\u001b[0m \n\u001b[1;32m   (...)\u001b[0m\n\u001b[0;32m    507\u001b[0m \u001b[38;5;124;03mBlock\u001b[39;00m\n\u001b[0;32m    508\u001b[0m \u001b[38;5;124;03m\"\"\"\u001b[39;00m\n\u001b[0;32m    509\u001b[0m values \u001b[38;5;241m=\u001b[39m \u001b[38;5;28mself\u001b[39m\u001b[38;5;241m.\u001b[39mvalues\n\u001b[1;32m--> 511\u001b[0m new_values \u001b[38;5;241m=\u001b[39m \u001b[43mastype_array_safe\u001b[49m\u001b[43m(\u001b[49m\u001b[43mvalues\u001b[49m\u001b[43m,\u001b[49m\u001b[43m \u001b[49m\u001b[43mdtype\u001b[49m\u001b[43m,\u001b[49m\u001b[43m \u001b[49m\u001b[43mcopy\u001b[49m\u001b[38;5;241;43m=\u001b[39;49m\u001b[43mcopy\u001b[49m\u001b[43m,\u001b[49m\u001b[43m \u001b[49m\u001b[43merrors\u001b[49m\u001b[38;5;241;43m=\u001b[39;49m\u001b[43merrors\u001b[49m\u001b[43m)\u001b[49m\n\u001b[0;32m    513\u001b[0m new_values \u001b[38;5;241m=\u001b[39m maybe_coerce_values(new_values)\n\u001b[0;32m    515\u001b[0m refs \u001b[38;5;241m=\u001b[39m \u001b[38;5;28;01mNone\u001b[39;00m\n",
      "File \u001b[1;32m~\\AppData\\Local\\Programs\\Python\\Python311\\Lib\\site-packages\\pandas\\core\\dtypes\\astype.py:242\u001b[0m, in \u001b[0;36mastype_array_safe\u001b[1;34m(values, dtype, copy, errors)\u001b[0m\n\u001b[0;32m    239\u001b[0m     dtype \u001b[38;5;241m=\u001b[39m dtype\u001b[38;5;241m.\u001b[39mnumpy_dtype\n\u001b[0;32m    241\u001b[0m \u001b[38;5;28;01mtry\u001b[39;00m:\n\u001b[1;32m--> 242\u001b[0m     new_values \u001b[38;5;241m=\u001b[39m \u001b[43mastype_array\u001b[49m\u001b[43m(\u001b[49m\u001b[43mvalues\u001b[49m\u001b[43m,\u001b[49m\u001b[43m \u001b[49m\u001b[43mdtype\u001b[49m\u001b[43m,\u001b[49m\u001b[43m \u001b[49m\u001b[43mcopy\u001b[49m\u001b[38;5;241;43m=\u001b[39;49m\u001b[43mcopy\u001b[49m\u001b[43m)\u001b[49m\n\u001b[0;32m    243\u001b[0m \u001b[38;5;28;01mexcept\u001b[39;00m (\u001b[38;5;167;01mValueError\u001b[39;00m, \u001b[38;5;167;01mTypeError\u001b[39;00m):\n\u001b[0;32m    244\u001b[0m     \u001b[38;5;66;03m# e.g. _astype_nansafe can fail on object-dtype of strings\u001b[39;00m\n\u001b[0;32m    245\u001b[0m     \u001b[38;5;66;03m#  trying to convert to float\u001b[39;00m\n\u001b[0;32m    246\u001b[0m     \u001b[38;5;28;01mif\u001b[39;00m errors \u001b[38;5;241m==\u001b[39m \u001b[38;5;124m\"\u001b[39m\u001b[38;5;124mignore\u001b[39m\u001b[38;5;124m\"\u001b[39m:\n",
      "File \u001b[1;32m~\\AppData\\Local\\Programs\\Python\\Python311\\Lib\\site-packages\\pandas\\core\\dtypes\\astype.py:187\u001b[0m, in \u001b[0;36mastype_array\u001b[1;34m(values, dtype, copy)\u001b[0m\n\u001b[0;32m    184\u001b[0m     values \u001b[38;5;241m=\u001b[39m values\u001b[38;5;241m.\u001b[39mastype(dtype, copy\u001b[38;5;241m=\u001b[39mcopy)\n\u001b[0;32m    186\u001b[0m \u001b[38;5;28;01melse\u001b[39;00m:\n\u001b[1;32m--> 187\u001b[0m     values \u001b[38;5;241m=\u001b[39m \u001b[43m_astype_nansafe\u001b[49m\u001b[43m(\u001b[49m\u001b[43mvalues\u001b[49m\u001b[43m,\u001b[49m\u001b[43m \u001b[49m\u001b[43mdtype\u001b[49m\u001b[43m,\u001b[49m\u001b[43m \u001b[49m\u001b[43mcopy\u001b[49m\u001b[38;5;241;43m=\u001b[39;49m\u001b[43mcopy\u001b[49m\u001b[43m)\u001b[49m\n\u001b[0;32m    189\u001b[0m \u001b[38;5;66;03m# in pandas we don't store numpy str dtypes, so convert to object\u001b[39;00m\n\u001b[0;32m    190\u001b[0m \u001b[38;5;28;01mif\u001b[39;00m \u001b[38;5;28misinstance\u001b[39m(dtype, np\u001b[38;5;241m.\u001b[39mdtype) \u001b[38;5;129;01mand\u001b[39;00m \u001b[38;5;28missubclass\u001b[39m(values\u001b[38;5;241m.\u001b[39mdtype\u001b[38;5;241m.\u001b[39mtype, \u001b[38;5;28mstr\u001b[39m):\n",
      "File \u001b[1;32m~\\AppData\\Local\\Programs\\Python\\Python311\\Lib\\site-packages\\pandas\\core\\dtypes\\astype.py:138\u001b[0m, in \u001b[0;36m_astype_nansafe\u001b[1;34m(arr, dtype, copy, skipna)\u001b[0m\n\u001b[0;32m    134\u001b[0m     \u001b[38;5;28;01mraise\u001b[39;00m \u001b[38;5;167;01mValueError\u001b[39;00m(msg)\n\u001b[0;32m    136\u001b[0m \u001b[38;5;28;01mif\u001b[39;00m copy \u001b[38;5;129;01mor\u001b[39;00m is_object_dtype(arr\u001b[38;5;241m.\u001b[39mdtype) \u001b[38;5;129;01mor\u001b[39;00m is_object_dtype(dtype):\n\u001b[0;32m    137\u001b[0m     \u001b[38;5;66;03m# Explicit copy, or required since NumPy can't view from / to object.\u001b[39;00m\n\u001b[1;32m--> 138\u001b[0m     \u001b[38;5;28;01mreturn\u001b[39;00m \u001b[43marr\u001b[49m\u001b[38;5;241;43m.\u001b[39;49m\u001b[43mastype\u001b[49m\u001b[43m(\u001b[49m\u001b[43mdtype\u001b[49m\u001b[43m,\u001b[49m\u001b[43m \u001b[49m\u001b[43mcopy\u001b[49m\u001b[38;5;241;43m=\u001b[39;49m\u001b[38;5;28;43;01mTrue\u001b[39;49;00m\u001b[43m)\u001b[49m\n\u001b[0;32m    140\u001b[0m \u001b[38;5;28;01mreturn\u001b[39;00m arr\u001b[38;5;241m.\u001b[39mastype(dtype, copy\u001b[38;5;241m=\u001b[39mcopy)\n",
      "\u001b[1;31mValueError\u001b[0m: could not convert string to float: '  '"
     ]
    }
   ],
   "source": [
    "# last_df['분양가격(㎡)'].astype(float)"
   ]
  },
  {
   "cell_type": "code",
   "execution_count": 21,
   "id": "5c2c00d1-191d-4628-9ac4-23a525d907e7",
   "metadata": {
    "tags": []
   },
   "outputs": [],
   "source": [
    "last_df['분양가격'] = pd.to_numeric(last_df['분양가격(㎡)'],errors='coerce')"
   ]
  },
  {
   "cell_type": "code",
   "execution_count": 22,
   "id": "1e090501-eba0-42b0-af8b-b13ef445a3b7",
   "metadata": {
    "collapsed": true,
    "jupyter": {
     "outputs_hidden": true
    },
    "tags": []
   },
   "outputs": [
    {
     "data": {
      "text/plain": [
       "지역명          0\n",
       "규모구분         0\n",
       "연도           0\n",
       "월            0\n",
       "분양가격(㎡)    277\n",
       "분양가격       378\n",
       "dtype: int64"
      ]
     },
     "execution_count": 22,
     "metadata": {},
     "output_type": "execute_result"
    }
   ],
   "source": [
    "last_df.isnull().sum()"
   ]
  },
  {
   "cell_type": "code",
   "execution_count": 23,
   "id": "4046785e-101d-4553-b32e-76c656e2ad93",
   "metadata": {
    "tags": []
   },
   "outputs": [
    {
     "name": "stdout",
     "output_type": "stream",
     "text": [
      "<class 'pandas.core.frame.DataFrame'>\n",
      "RangeIndex: 4335 entries, 0 to 4334\n",
      "Data columns (total 6 columns):\n",
      " #   Column   Non-Null Count  Dtype  \n",
      "---  ------   --------------  -----  \n",
      " 0   지역명      4335 non-null   object \n",
      " 1   규모구분     4335 non-null   object \n",
      " 2   연도       4335 non-null   int64  \n",
      " 3   월        4335 non-null   int64  \n",
      " 4   분양가격(㎡)  4058 non-null   object \n",
      " 5   분양가격     3957 non-null   float64\n",
      "dtypes: float64(1), int64(2), object(3)\n",
      "memory usage: 203.3+ KB\n"
     ]
    }
   ],
   "source": [
    "last_df.info()"
   ]
  },
  {
   "cell_type": "code",
   "execution_count": 24,
   "id": "b88c9bf6-b6e5-4020-972d-85759c0f9342",
   "metadata": {
    "tags": []
   },
   "outputs": [
    {
     "data": {
      "text/plain": [
       "float"
      ]
     },
     "execution_count": 24,
     "metadata": {},
     "output_type": "execute_result"
    }
   ],
   "source": [
    "type(np.NaN)"
   ]
  },
  {
   "cell_type": "code",
   "execution_count": 25,
   "id": "3c2da3a3-4e25-4c02-8cc6-cce6ef4fd1a5",
   "metadata": {
    "tags": []
   },
   "outputs": [],
   "source": [
    "last_df['평당분양가격'] = last_df['분양가격'] * 3.3"
   ]
  },
  {
   "cell_type": "code",
   "execution_count": 26,
   "id": "c619467f-8e0c-487c-90fb-848afa32f33c",
   "metadata": {
    "tags": []
   },
   "outputs": [
    {
     "data": {
      "text/plain": [
       "count     4058\n",
       "unique    1753\n",
       "top       2221\n",
       "freq        17\n",
       "Name: 분양가격(㎡), dtype: object"
      ]
     },
     "execution_count": 26,
     "metadata": {},
     "output_type": "execute_result"
    }
   ],
   "source": [
    "last_df['분양가격(㎡)'].describe()"
   ]
  },
  {
   "cell_type": "code",
   "execution_count": 27,
   "id": "67fc7965-bd96-4a1e-bc7a-8d7a9e3c8e0c",
   "metadata": {
    "tags": []
   },
   "outputs": [
    {
     "data": {
      "text/plain": [
       "count     3957.000000\n",
       "mean      3238.128633\n",
       "std       1264.309933\n",
       "min       1868.000000\n",
       "25%       2441.000000\n",
       "50%       2874.000000\n",
       "75%       3561.000000\n",
       "max      12728.000000\n",
       "Name: 분양가격, dtype: float64"
      ]
     },
     "execution_count": 27,
     "metadata": {},
     "output_type": "execute_result"
    }
   ],
   "source": [
    "last_df['분양가격'].describe()"
   ]
  },
  {
   "cell_type": "code",
   "execution_count": 28,
   "id": "72cf9fad-3813-41f5-9c08-de126a49c64f",
   "metadata": {
    "tags": []
   },
   "outputs": [
    {
     "data": {
      "text/plain": [
       "5"
      ]
     },
     "execution_count": 28,
     "metadata": {},
     "output_type": "execute_result"
    }
   ],
   "source": [
    "last_df['규모구분'].nunique()"
   ]
  },
  {
   "cell_type": "code",
   "execution_count": 29,
   "id": "f62f0e97-6789-4e6f-b4a6-410e22e0d291",
   "metadata": {
    "tags": []
   },
   "outputs": [
    {
     "data": {
      "text/plain": [
       "array(['전체', '전용면적 60㎡이하', '전용면적 60㎡초과 85㎡이하', '전용면적 85㎡초과 102㎡이하',\n",
       "       '전용면적 102㎡초과'], dtype=object)"
      ]
     },
     "execution_count": 29,
     "metadata": {},
     "output_type": "execute_result"
    }
   ],
   "source": [
    "last_df['규모구분'].unique()"
   ]
  },
  {
   "cell_type": "code",
   "execution_count": 34,
   "id": "69755622-28a9-4e7f-8853-b6770c633cee",
   "metadata": {
    "tags": []
   },
   "outputs": [],
   "source": [
    "#  전용면적은 제거, 초과는 ~ , 이하는 제거 \n",
    "last_df['전용면적'] = last_df['규모구분'].str.replace('전용면적','')\n",
    "last_df['전용면적'] = last_df['전용면적'].str.replace('초과','~')\n",
    "last_df['전용면적'] = last_df['전용면적'].str.replace('이하','').str.strip()"
   ]
  },
  {
   "cell_type": "code",
   "execution_count": 35,
   "id": "688d2a24-7ecd-4b80-9e0f-1d32dc25bf6d",
   "metadata": {
    "tags": []
   },
   "outputs": [],
   "source": [
    "# 필요없는 컬럼 제거"
   ]
  },
  {
   "cell_type": "code",
   "execution_count": 36,
   "id": "6a308262-882e-49b5-9f91-07b91a2a109e",
   "metadata": {
    "tags": []
   },
   "outputs": [
    {
     "data": {
      "text/plain": [
       "Index(['지역명', '규모구분', '연도', '월', '분양가격(㎡)', '분양가격', '평당분양가격', '전용면적'], dtype='object')"
      ]
     },
     "execution_count": 36,
     "metadata": {},
     "output_type": "execute_result"
    }
   ],
   "source": [
    "last_df.columns"
   ]
  },
  {
   "cell_type": "code",
   "execution_count": 37,
   "id": "1ffea9a0-ef84-4390-b972-b2c8b78b85dc",
   "metadata": {
    "collapsed": true,
    "jupyter": {
     "outputs_hidden": true
    },
    "tags": []
   },
   "outputs": [
    {
     "name": "stdout",
     "output_type": "stream",
     "text": [
      "<class 'pandas.core.frame.DataFrame'>\n",
      "RangeIndex: 4335 entries, 0 to 4334\n",
      "Data columns (total 8 columns):\n",
      " #   Column   Non-Null Count  Dtype  \n",
      "---  ------   --------------  -----  \n",
      " 0   지역명      4335 non-null   object \n",
      " 1   규모구분     4335 non-null   object \n",
      " 2   연도       4335 non-null   int64  \n",
      " 3   월        4335 non-null   int64  \n",
      " 4   분양가격(㎡)  4058 non-null   object \n",
      " 5   분양가격     3957 non-null   float64\n",
      " 6   평당분양가격   3957 non-null   float64\n",
      " 7   전용면적     4335 non-null   object \n",
      "dtypes: float64(2), int64(2), object(4)\n",
      "memory usage: 271.1+ KB\n"
     ]
    }
   ],
   "source": [
    "last_df.info() #271.1+ KB"
   ]
  },
  {
   "cell_type": "code",
   "execution_count": 38,
   "id": "26cf15af-07fe-4406-aaf3-3d525bd243fc",
   "metadata": {
    "tags": []
   },
   "outputs": [],
   "source": [
    "last_df.drop(columns=['규모구분','분양가격(㎡)'],inplace=True)"
   ]
  },
  {
   "cell_type": "code",
   "execution_count": 39,
   "id": "d766666a-caa0-4a5e-8a9a-28899458947a",
   "metadata": {
    "collapsed": true,
    "jupyter": {
     "outputs_hidden": true
    },
    "tags": []
   },
   "outputs": [
    {
     "name": "stdout",
     "output_type": "stream",
     "text": [
      "<class 'pandas.core.frame.DataFrame'>\n",
      "RangeIndex: 4335 entries, 0 to 4334\n",
      "Data columns (total 6 columns):\n",
      " #   Column  Non-Null Count  Dtype  \n",
      "---  ------  --------------  -----  \n",
      " 0   지역명     4335 non-null   object \n",
      " 1   연도      4335 non-null   int64  \n",
      " 2   월       4335 non-null   int64  \n",
      " 3   분양가격    3957 non-null   float64\n",
      " 4   평당분양가격  3957 non-null   float64\n",
      " 5   전용면적    4335 non-null   object \n",
      "dtypes: float64(2), int64(2), object(2)\n",
      "memory usage: 203.3+ KB\n"
     ]
    }
   ],
   "source": [
    "last_df.info() #203.3+ KB"
   ]
  },
  {
   "cell_type": "code",
   "execution_count": 40,
   "id": "5eef77b5-0ec5-4edf-b4be-2e7de0e124af",
   "metadata": {
    "collapsed": true,
    "jupyter": {
     "outputs_hidden": true
    },
    "tags": []
   },
   "outputs": [
    {
     "data": {
      "text/plain": [
       "\u001b[1;31mSignature:\u001b[0m\n",
       "\u001b[0mlast_df\u001b[0m\u001b[1;33m.\u001b[0m\u001b[0mgroupby\u001b[0m\u001b[1;33m(\u001b[0m\u001b[1;33m\n",
       "\u001b[0m    \u001b[0mby\u001b[0m\u001b[1;33m=\u001b[0m\u001b[1;32mNone\u001b[0m\u001b[1;33m,\u001b[0m\u001b[1;33m\n",
       "\u001b[0m    \u001b[0maxis\u001b[0m\u001b[1;33m:\u001b[0m \u001b[1;34m'Axis'\u001b[0m \u001b[1;33m=\u001b[0m \u001b[1;36m0\u001b[0m\u001b[1;33m,\u001b[0m\u001b[1;33m\n",
       "\u001b[0m    \u001b[0mlevel\u001b[0m\u001b[1;33m:\u001b[0m \u001b[1;34m'IndexLabel | None'\u001b[0m \u001b[1;33m=\u001b[0m \u001b[1;32mNone\u001b[0m\u001b[1;33m,\u001b[0m\u001b[1;33m\n",
       "\u001b[0m    \u001b[0mas_index\u001b[0m\u001b[1;33m:\u001b[0m \u001b[1;34m'bool'\u001b[0m \u001b[1;33m=\u001b[0m \u001b[1;32mTrue\u001b[0m\u001b[1;33m,\u001b[0m\u001b[1;33m\n",
       "\u001b[0m    \u001b[0msort\u001b[0m\u001b[1;33m:\u001b[0m \u001b[1;34m'bool'\u001b[0m \u001b[1;33m=\u001b[0m \u001b[1;32mTrue\u001b[0m\u001b[1;33m,\u001b[0m\u001b[1;33m\n",
       "\u001b[0m    \u001b[0mgroup_keys\u001b[0m\u001b[1;33m:\u001b[0m \u001b[1;34m'bool'\u001b[0m \u001b[1;33m=\u001b[0m \u001b[1;32mTrue\u001b[0m\u001b[1;33m,\u001b[0m\u001b[1;33m\n",
       "\u001b[0m    \u001b[0mobserved\u001b[0m\u001b[1;33m:\u001b[0m \u001b[1;34m'bool'\u001b[0m \u001b[1;33m=\u001b[0m \u001b[1;32mFalse\u001b[0m\u001b[1;33m,\u001b[0m\u001b[1;33m\n",
       "\u001b[0m    \u001b[0mdropna\u001b[0m\u001b[1;33m:\u001b[0m \u001b[1;34m'bool'\u001b[0m \u001b[1;33m=\u001b[0m \u001b[1;32mTrue\u001b[0m\u001b[1;33m,\u001b[0m\u001b[1;33m\n",
       "\u001b[0m\u001b[1;33m)\u001b[0m \u001b[1;33m->\u001b[0m \u001b[1;34m'DataFrameGroupBy'\u001b[0m\u001b[1;33m\u001b[0m\u001b[1;33m\u001b[0m\u001b[0m\n",
       "\u001b[1;31mDocstring:\u001b[0m\n",
       "Group DataFrame using a mapper or by a Series of columns.\n",
       "\n",
       "A groupby operation involves some combination of splitting the\n",
       "object, applying a function, and combining the results. This can be\n",
       "used to group large amounts of data and compute operations on these\n",
       "groups.\n",
       "\n",
       "Parameters\n",
       "----------\n",
       "by : mapping, function, label, pd.Grouper or list of such\n",
       "    Used to determine the groups for the groupby.\n",
       "    If ``by`` is a function, it's called on each value of the object's\n",
       "    index. If a dict or Series is passed, the Series or dict VALUES\n",
       "    will be used to determine the groups (the Series' values are first\n",
       "    aligned; see ``.align()`` method). If a list or ndarray of length\n",
       "    equal to the selected axis is passed (see the `groupby user guide\n",
       "    <https://pandas.pydata.org/pandas-docs/stable/user_guide/groupby.html#splitting-an-object-into-groups>`_),\n",
       "    the values are used as-is to determine the groups. A label or list\n",
       "    of labels may be passed to group by the columns in ``self``.\n",
       "    Notice that a tuple is interpreted as a (single) key.\n",
       "axis : {0 or 'index', 1 or 'columns'}, default 0\n",
       "    Split along rows (0) or columns (1). For `Series` this parameter\n",
       "    is unused and defaults to 0.\n",
       "level : int, level name, or sequence of such, default None\n",
       "    If the axis is a MultiIndex (hierarchical), group by a particular\n",
       "    level or levels. Do not specify both ``by`` and ``level``.\n",
       "as_index : bool, default True\n",
       "    For aggregated output, return object with group labels as the\n",
       "    index. Only relevant for DataFrame input. as_index=False is\n",
       "    effectively \"SQL-style\" grouped output.\n",
       "sort : bool, default True\n",
       "    Sort group keys. Get better performance by turning this off.\n",
       "    Note this does not influence the order of observations within each\n",
       "    group. Groupby preserves the order of rows within each group.\n",
       "\n",
       "    .. versionchanged:: 2.0.0\n",
       "\n",
       "        Specifying ``sort=False`` with an ordered categorical grouper will no\n",
       "        longer sort the values.\n",
       "\n",
       "group_keys : bool, default True\n",
       "    When calling apply and the ``by`` argument produces a like-indexed\n",
       "    (i.e. :ref:`a transform <groupby.transform>`) result, add group keys to\n",
       "    index to identify pieces. By default group keys are not included\n",
       "    when the result's index (and column) labels match the inputs, and\n",
       "    are included otherwise.\n",
       "\n",
       "    .. versionchanged:: 1.5.0\n",
       "\n",
       "       Warns that ``group_keys`` will no longer be ignored when the\n",
       "       result from ``apply`` is a like-indexed Series or DataFrame.\n",
       "       Specify ``group_keys`` explicitly to include the group keys or\n",
       "       not.\n",
       "\n",
       "    .. versionchanged:: 2.0.0\n",
       "\n",
       "       ``group_keys`` now defaults to ``True``.\n",
       "\n",
       "observed : bool, default False\n",
       "    This only applies if any of the groupers are Categoricals.\n",
       "    If True: only show observed values for categorical groupers.\n",
       "    If False: show all values for categorical groupers.\n",
       "dropna : bool, default True\n",
       "    If True, and if group keys contain NA values, NA values together\n",
       "    with row/column will be dropped.\n",
       "    If False, NA values will also be treated as the key in groups.\n",
       "\n",
       "    .. versionadded:: 1.1.0\n",
       "\n",
       "Returns\n",
       "-------\n",
       "DataFrameGroupBy\n",
       "    Returns a groupby object that contains information about the groups.\n",
       "\n",
       "See Also\n",
       "--------\n",
       "resample : Convenience method for frequency conversion and resampling\n",
       "    of time series.\n",
       "\n",
       "Notes\n",
       "-----\n",
       "See the `user guide\n",
       "<https://pandas.pydata.org/pandas-docs/stable/groupby.html>`__ for more\n",
       "detailed usage and examples, including splitting an object into groups,\n",
       "iterating through groups, selecting a group, aggregation, and more.\n",
       "\n",
       "Examples\n",
       "--------\n",
       ">>> df = pd.DataFrame({'Animal': ['Falcon', 'Falcon',\n",
       "...                               'Parrot', 'Parrot'],\n",
       "...                    'Max Speed': [380., 370., 24., 26.]})\n",
       ">>> df\n",
       "   Animal  Max Speed\n",
       "0  Falcon      380.0\n",
       "1  Falcon      370.0\n",
       "2  Parrot       24.0\n",
       "3  Parrot       26.0\n",
       ">>> df.groupby(['Animal']).mean()\n",
       "        Max Speed\n",
       "Animal\n",
       "Falcon      375.0\n",
       "Parrot       25.0\n",
       "\n",
       "**Hierarchical Indexes**\n",
       "\n",
       "We can groupby different levels of a hierarchical index\n",
       "using the `level` parameter:\n",
       "\n",
       ">>> arrays = [['Falcon', 'Falcon', 'Parrot', 'Parrot'],\n",
       "...           ['Captive', 'Wild', 'Captive', 'Wild']]\n",
       ">>> index = pd.MultiIndex.from_arrays(arrays, names=('Animal', 'Type'))\n",
       ">>> df = pd.DataFrame({'Max Speed': [390., 350., 30., 20.]},\n",
       "...                   index=index)\n",
       ">>> df\n",
       "                Max Speed\n",
       "Animal Type\n",
       "Falcon Captive      390.0\n",
       "       Wild         350.0\n",
       "Parrot Captive       30.0\n",
       "       Wild          20.0\n",
       ">>> df.groupby(level=0).mean()\n",
       "        Max Speed\n",
       "Animal\n",
       "Falcon      370.0\n",
       "Parrot       25.0\n",
       ">>> df.groupby(level=\"Type\").mean()\n",
       "         Max Speed\n",
       "Type\n",
       "Captive      210.0\n",
       "Wild         185.0\n",
       "\n",
       "We can also choose to include NA in group keys or not by setting\n",
       "`dropna` parameter, the default setting is `True`.\n",
       "\n",
       ">>> l = [[1, 2, 3], [1, None, 4], [2, 1, 3], [1, 2, 2]]\n",
       ">>> df = pd.DataFrame(l, columns=[\"a\", \"b\", \"c\"])\n",
       "\n",
       ">>> df.groupby(by=[\"b\"]).sum()\n",
       "    a   c\n",
       "b\n",
       "1.0 2   3\n",
       "2.0 2   5\n",
       "\n",
       ">>> df.groupby(by=[\"b\"], dropna=False).sum()\n",
       "    a   c\n",
       "b\n",
       "1.0 2   3\n",
       "2.0 2   5\n",
       "NaN 1   4\n",
       "\n",
       ">>> l = [[\"a\", 12, 12], [None, 12.3, 33.], [\"b\", 12.3, 123], [\"a\", 1, 1]]\n",
       ">>> df = pd.DataFrame(l, columns=[\"a\", \"b\", \"c\"])\n",
       "\n",
       ">>> df.groupby(by=\"a\").sum()\n",
       "    b     c\n",
       "a\n",
       "a   13.0   13.0\n",
       "b   12.3  123.0\n",
       "\n",
       ">>> df.groupby(by=\"a\", dropna=False).sum()\n",
       "    b     c\n",
       "a\n",
       "a   13.0   13.0\n",
       "b   12.3  123.0\n",
       "NaN 12.3   33.0\n",
       "\n",
       "When using ``.apply()``, use ``group_keys`` to include or exclude the group keys.\n",
       "The ``group_keys`` argument defaults to ``True`` (include).\n",
       "\n",
       ">>> df = pd.DataFrame({'Animal': ['Falcon', 'Falcon',\n",
       "...                               'Parrot', 'Parrot'],\n",
       "...                    'Max Speed': [380., 370., 24., 26.]})\n",
       ">>> df.groupby(\"Animal\", group_keys=True).apply(lambda x: x)\n",
       "          Animal  Max Speed\n",
       "Animal\n",
       "Falcon 0  Falcon      380.0\n",
       "       1  Falcon      370.0\n",
       "Parrot 2  Parrot       24.0\n",
       "       3  Parrot       26.0\n",
       "\n",
       ">>> df.groupby(\"Animal\", group_keys=False).apply(lambda x: x)\n",
       "   Animal  Max Speed\n",
       "0  Falcon      380.0\n",
       "1  Falcon      370.0\n",
       "2  Parrot       24.0\n",
       "3  Parrot       26.0\n",
       "\u001b[1;31mFile:\u001b[0m      c:\\users\\admin\\appdata\\local\\programs\\python\\python311\\lib\\site-packages\\pandas\\core\\frame.py\n",
       "\u001b[1;31mType:\u001b[0m      method"
      ]
     },
     "metadata": {},
     "output_type": "display_data"
    }
   ],
   "source": [
    "last_df.groupby?"
   ]
  },
  {
   "cell_type": "code",
   "execution_count": 41,
   "id": "d4bdb2e9-beb8-439e-ba30-8589a3cce660",
   "metadata": {
    "collapsed": true,
    "jupyter": {
     "outputs_hidden": true
    },
    "tags": []
   },
   "outputs": [
    {
     "name": "stdout",
     "output_type": "stream",
     "text": [
      "Help on method groupby in module pandas.core.frame:\n",
      "\n",
      "groupby(by=None, axis: 'Axis' = 0, level: 'IndexLabel | None' = None, as_index: 'bool' = True, sort: 'bool' = True, group_keys: 'bool' = True, observed: 'bool' = False, dropna: 'bool' = True) -> 'DataFrameGroupBy' method of pandas.core.frame.DataFrame instance\n",
      "    Group DataFrame using a mapper or by a Series of columns.\n",
      "    \n",
      "    A groupby operation involves some combination of splitting the\n",
      "    object, applying a function, and combining the results. This can be\n",
      "    used to group large amounts of data and compute operations on these\n",
      "    groups.\n",
      "    \n",
      "    Parameters\n",
      "    ----------\n",
      "    by : mapping, function, label, pd.Grouper or list of such\n",
      "        Used to determine the groups for the groupby.\n",
      "        If ``by`` is a function, it's called on each value of the object's\n",
      "        index. If a dict or Series is passed, the Series or dict VALUES\n",
      "        will be used to determine the groups (the Series' values are first\n",
      "        aligned; see ``.align()`` method). If a list or ndarray of length\n",
      "        equal to the selected axis is passed (see the `groupby user guide\n",
      "        <https://pandas.pydata.org/pandas-docs/stable/user_guide/groupby.html#splitting-an-object-into-groups>`_),\n",
      "        the values are used as-is to determine the groups. A label or list\n",
      "        of labels may be passed to group by the columns in ``self``.\n",
      "        Notice that a tuple is interpreted as a (single) key.\n",
      "    axis : {0 or 'index', 1 or 'columns'}, default 0\n",
      "        Split along rows (0) or columns (1). For `Series` this parameter\n",
      "        is unused and defaults to 0.\n",
      "    level : int, level name, or sequence of such, default None\n",
      "        If the axis is a MultiIndex (hierarchical), group by a particular\n",
      "        level or levels. Do not specify both ``by`` and ``level``.\n",
      "    as_index : bool, default True\n",
      "        For aggregated output, return object with group labels as the\n",
      "        index. Only relevant for DataFrame input. as_index=False is\n",
      "        effectively \"SQL-style\" grouped output.\n",
      "    sort : bool, default True\n",
      "        Sort group keys. Get better performance by turning this off.\n",
      "        Note this does not influence the order of observations within each\n",
      "        group. Groupby preserves the order of rows within each group.\n",
      "    \n",
      "        .. versionchanged:: 2.0.0\n",
      "    \n",
      "            Specifying ``sort=False`` with an ordered categorical grouper will no\n",
      "            longer sort the values.\n",
      "    \n",
      "    group_keys : bool, default True\n",
      "        When calling apply and the ``by`` argument produces a like-indexed\n",
      "        (i.e. :ref:`a transform <groupby.transform>`) result, add group keys to\n",
      "        index to identify pieces. By default group keys are not included\n",
      "        when the result's index (and column) labels match the inputs, and\n",
      "        are included otherwise.\n",
      "    \n",
      "        .. versionchanged:: 1.5.0\n",
      "    \n",
      "           Warns that ``group_keys`` will no longer be ignored when the\n",
      "           result from ``apply`` is a like-indexed Series or DataFrame.\n",
      "           Specify ``group_keys`` explicitly to include the group keys or\n",
      "           not.\n",
      "    \n",
      "        .. versionchanged:: 2.0.0\n",
      "    \n",
      "           ``group_keys`` now defaults to ``True``.\n",
      "    \n",
      "    observed : bool, default False\n",
      "        This only applies if any of the groupers are Categoricals.\n",
      "        If True: only show observed values for categorical groupers.\n",
      "        If False: show all values for categorical groupers.\n",
      "    dropna : bool, default True\n",
      "        If True, and if group keys contain NA values, NA values together\n",
      "        with row/column will be dropped.\n",
      "        If False, NA values will also be treated as the key in groups.\n",
      "    \n",
      "        .. versionadded:: 1.1.0\n",
      "    \n",
      "    Returns\n",
      "    -------\n",
      "    DataFrameGroupBy\n",
      "        Returns a groupby object that contains information about the groups.\n",
      "    \n",
      "    See Also\n",
      "    --------\n",
      "    resample : Convenience method for frequency conversion and resampling\n",
      "        of time series.\n",
      "    \n",
      "    Notes\n",
      "    -----\n",
      "    See the `user guide\n",
      "    <https://pandas.pydata.org/pandas-docs/stable/groupby.html>`__ for more\n",
      "    detailed usage and examples, including splitting an object into groups,\n",
      "    iterating through groups, selecting a group, aggregation, and more.\n",
      "    \n",
      "    Examples\n",
      "    --------\n",
      "    >>> df = pd.DataFrame({'Animal': ['Falcon', 'Falcon',\n",
      "    ...                               'Parrot', 'Parrot'],\n",
      "    ...                    'Max Speed': [380., 370., 24., 26.]})\n",
      "    >>> df\n",
      "       Animal  Max Speed\n",
      "    0  Falcon      380.0\n",
      "    1  Falcon      370.0\n",
      "    2  Parrot       24.0\n",
      "    3  Parrot       26.0\n",
      "    >>> df.groupby(['Animal']).mean()\n",
      "            Max Speed\n",
      "    Animal\n",
      "    Falcon      375.0\n",
      "    Parrot       25.0\n",
      "    \n",
      "    **Hierarchical Indexes**\n",
      "    \n",
      "    We can groupby different levels of a hierarchical index\n",
      "    using the `level` parameter:\n",
      "    \n",
      "    >>> arrays = [['Falcon', 'Falcon', 'Parrot', 'Parrot'],\n",
      "    ...           ['Captive', 'Wild', 'Captive', 'Wild']]\n",
      "    >>> index = pd.MultiIndex.from_arrays(arrays, names=('Animal', 'Type'))\n",
      "    >>> df = pd.DataFrame({'Max Speed': [390., 350., 30., 20.]},\n",
      "    ...                   index=index)\n",
      "    >>> df\n",
      "                    Max Speed\n",
      "    Animal Type\n",
      "    Falcon Captive      390.0\n",
      "           Wild         350.0\n",
      "    Parrot Captive       30.0\n",
      "           Wild          20.0\n",
      "    >>> df.groupby(level=0).mean()\n",
      "            Max Speed\n",
      "    Animal\n",
      "    Falcon      370.0\n",
      "    Parrot       25.0\n",
      "    >>> df.groupby(level=\"Type\").mean()\n",
      "             Max Speed\n",
      "    Type\n",
      "    Captive      210.0\n",
      "    Wild         185.0\n",
      "    \n",
      "    We can also choose to include NA in group keys or not by setting\n",
      "    `dropna` parameter, the default setting is `True`.\n",
      "    \n",
      "    >>> l = [[1, 2, 3], [1, None, 4], [2, 1, 3], [1, 2, 2]]\n",
      "    >>> df = pd.DataFrame(l, columns=[\"a\", \"b\", \"c\"])\n",
      "    \n",
      "    >>> df.groupby(by=[\"b\"]).sum()\n",
      "        a   c\n",
      "    b\n",
      "    1.0 2   3\n",
      "    2.0 2   5\n",
      "    \n",
      "    >>> df.groupby(by=[\"b\"], dropna=False).sum()\n",
      "        a   c\n",
      "    b\n",
      "    1.0 2   3\n",
      "    2.0 2   5\n",
      "    NaN 1   4\n",
      "    \n",
      "    >>> l = [[\"a\", 12, 12], [None, 12.3, 33.], [\"b\", 12.3, 123], [\"a\", 1, 1]]\n",
      "    >>> df = pd.DataFrame(l, columns=[\"a\", \"b\", \"c\"])\n",
      "    \n",
      "    >>> df.groupby(by=\"a\").sum()\n",
      "        b     c\n",
      "    a\n",
      "    a   13.0   13.0\n",
      "    b   12.3  123.0\n",
      "    \n",
      "    >>> df.groupby(by=\"a\", dropna=False).sum()\n",
      "        b     c\n",
      "    a\n",
      "    a   13.0   13.0\n",
      "    b   12.3  123.0\n",
      "    NaN 12.3   33.0\n",
      "    \n",
      "    When using ``.apply()``, use ``group_keys`` to include or exclude the group keys.\n",
      "    The ``group_keys`` argument defaults to ``True`` (include).\n",
      "    \n",
      "    >>> df = pd.DataFrame({'Animal': ['Falcon', 'Falcon',\n",
      "    ...                               'Parrot', 'Parrot'],\n",
      "    ...                    'Max Speed': [380., 370., 24., 26.]})\n",
      "    >>> df.groupby(\"Animal\", group_keys=True).apply(lambda x: x)\n",
      "              Animal  Max Speed\n",
      "    Animal\n",
      "    Falcon 0  Falcon      380.0\n",
      "           1  Falcon      370.0\n",
      "    Parrot 2  Parrot       24.0\n",
      "           3  Parrot       26.0\n",
      "    \n",
      "    >>> df.groupby(\"Animal\", group_keys=False).apply(lambda x: x)\n",
      "       Animal  Max Speed\n",
      "    0  Falcon      380.0\n",
      "    1  Falcon      370.0\n",
      "    2  Parrot       24.0\n",
      "    3  Parrot       26.0\n",
      "\n"
     ]
    }
   ],
   "source": [
    "help(last_df.groupby)"
   ]
  },
  {
   "cell_type": "code",
   "execution_count": 42,
   "id": "1d04b266-2530-48bf-a1f0-44affdcb53a5",
   "metadata": {
    "jupyter": {
     "source_hidden": true
    },
    "tags": []
   },
   "outputs": [],
   "source": [
    "def custome():\n",
    "    '''\n",
    "    함수 샘플 작성\n",
    "    \n",
    "    '''\n",
    "    a='kkk'\n",
    "    print('ggg')\n",
    "    return a "
   ]
  },
  {
   "cell_type": "code",
   "execution_count": 43,
   "id": "2f507ade-9888-4c28-a9aa-e454b0c27864",
   "metadata": {
    "collapsed": true,
    "jupyter": {
     "outputs_hidden": true
    },
    "tags": []
   },
   "outputs": [
    {
     "data": {
      "text/plain": [
       "\u001b[1;31mSignature:\u001b[0m \u001b[0mcustome\u001b[0m\u001b[1;33m(\u001b[0m\u001b[1;33m)\u001b[0m\u001b[1;33m\u001b[0m\u001b[1;33m\u001b[0m\u001b[0m\n",
       "\u001b[1;31mDocstring:\u001b[0m 함수 샘플 작성\n",
       "\u001b[1;31mFile:\u001b[0m      c:\\users\\admin\\appdata\\local\\temp\\ipykernel_10284\\2632351396.py\n",
       "\u001b[1;31mType:\u001b[0m      function"
      ]
     },
     "metadata": {},
     "output_type": "display_data"
    }
   ],
   "source": [
    "custome?"
   ]
  },
  {
   "cell_type": "code",
   "execution_count": 45,
   "id": "3e9cd25f-ed67-456a-a35c-25507654a518",
   "metadata": {
    "tags": []
   },
   "outputs": [
    {
     "data": {
      "text/html": [
       "<div>\n",
       "<style scoped>\n",
       "    .dataframe tbody tr th:only-of-type {\n",
       "        vertical-align: middle;\n",
       "    }\n",
       "\n",
       "    .dataframe tbody tr th {\n",
       "        vertical-align: top;\n",
       "    }\n",
       "\n",
       "    .dataframe thead th {\n",
       "        text-align: right;\n",
       "    }\n",
       "</style>\n",
       "<table border=\"1\" class=\"dataframe\">\n",
       "  <thead>\n",
       "    <tr style=\"text-align: right;\">\n",
       "      <th></th>\n",
       "      <th>지역명</th>\n",
       "      <th>연도</th>\n",
       "      <th>월</th>\n",
       "      <th>분양가격</th>\n",
       "      <th>평당분양가격</th>\n",
       "      <th>전용면적</th>\n",
       "    </tr>\n",
       "  </thead>\n",
       "  <tbody>\n",
       "    <tr>\n",
       "      <th>0</th>\n",
       "      <td>서울</td>\n",
       "      <td>2015</td>\n",
       "      <td>10</td>\n",
       "      <td>5841.0</td>\n",
       "      <td>19275.3</td>\n",
       "      <td>전체</td>\n",
       "    </tr>\n",
       "    <tr>\n",
       "      <th>1</th>\n",
       "      <td>서울</td>\n",
       "      <td>2015</td>\n",
       "      <td>10</td>\n",
       "      <td>5652.0</td>\n",
       "      <td>18651.6</td>\n",
       "      <td>60㎡</td>\n",
       "    </tr>\n",
       "    <tr>\n",
       "      <th>2</th>\n",
       "      <td>서울</td>\n",
       "      <td>2015</td>\n",
       "      <td>10</td>\n",
       "      <td>5882.0</td>\n",
       "      <td>19410.6</td>\n",
       "      <td>60㎡~ 85㎡</td>\n",
       "    </tr>\n",
       "  </tbody>\n",
       "</table>\n",
       "</div>"
      ],
      "text/plain": [
       "  지역명    연도   월    분양가격   평당분양가격      전용면적\n",
       "0  서울  2015  10  5841.0  19275.3        전체\n",
       "1  서울  2015  10  5652.0  18651.6       60㎡\n",
       "2  서울  2015  10  5882.0  19410.6  60㎡~ 85㎡"
      ]
     },
     "execution_count": 45,
     "metadata": {},
     "output_type": "execute_result"
    }
   ],
   "source": [
    "last_df.head(3)"
   ]
  },
  {
   "cell_type": "code",
   "execution_count": 44,
   "id": "3585f60f-4a56-4c8f-abc0-895e3cf02165",
   "metadata": {
    "collapsed": true,
    "jupyter": {
     "outputs_hidden": true
    },
    "tags": []
   },
   "outputs": [
    {
     "data": {
      "text/plain": [
       "지역명\n",
       "강원     7890.750000\n",
       "경기    13356.895200\n",
       "경남     9268.778138\n",
       "경북     8376.536515\n",
       "광주     9951.535821\n",
       "대구    11980.895455\n",
       "대전    10253.333333\n",
       "부산    12087.121200\n",
       "서울    23599.976400\n",
       "세종     9796.516456\n",
       "울산    10014.902013\n",
       "인천    11915.320732\n",
       "전남     7565.316532\n",
       "전북     7724.235484\n",
       "제주    11241.276712\n",
       "충남     8233.651883\n",
       "충북     7634.655600\n",
       "Name: 평당분양가격, dtype: float64"
      ]
     },
     "execution_count": 44,
     "metadata": {},
     "output_type": "execute_result"
    }
   ],
   "source": [
    "last_df.groupby(['지역명'])['평당분양가격'].mean()"
   ]
  },
  {
   "cell_type": "code",
   "execution_count": 46,
   "id": "322ea404-26d4-4b68-a76d-d1abc4eb6053",
   "metadata": {
    "collapsed": true,
    "jupyter": {
     "outputs_hidden": true
    },
    "tags": []
   },
   "outputs": [
    {
     "data": {
      "text/plain": [
       "지역명\n",
       "강원     7477.536000\n",
       "경기    12559.602000\n",
       "경남     8658.672000\n",
       "경북     8078.532000\n",
       "광주     9903.630000\n",
       "대구    11771.298000\n",
       "대전     9786.018000\n",
       "부산    11936.166000\n",
       "서울    22610.346000\n",
       "세종     9805.422000\n",
       "울산    10492.712195\n",
       "인천    11257.026000\n",
       "전남     7283.562000\n",
       "전북     7292.604000\n",
       "제주    10784.994000\n",
       "충남     7815.324000\n",
       "충북     7219.014000\n",
       "Name: 평당분양가격, dtype: float64"
      ]
     },
     "execution_count": 46,
     "metadata": {},
     "output_type": "execute_result"
    }
   ],
   "source": [
    "last_df[last_df['전용면적']=='전체'].groupby(['지역명'])['평당분양가격'].mean()"
   ]
  },
  {
   "cell_type": "code",
   "execution_count": 47,
   "id": "a82c5b43-8916-4465-954e-e1f93e2a74ba",
   "metadata": {
    "collapsed": true,
    "jupyter": {
     "outputs_hidden": true
    },
    "tags": []
   },
   "outputs": [
    {
     "data": {
      "text/plain": [
       "전용면적\n",
       "102㎡~        11517.705634\n",
       "60㎡          10375.137421\n",
       "60㎡~ 85㎡     10271.040071\n",
       "85㎡~ 102㎡    11097.599573\n",
       "전체           10276.086207\n",
       "Name: 평당분양가격, dtype: float64"
      ]
     },
     "execution_count": 47,
     "metadata": {},
     "output_type": "execute_result"
    }
   ],
   "source": [
    "last_df.groupby(['전용면적'])['평당분양가격'].mean()"
   ]
  },
  {
   "cell_type": "code",
   "execution_count": 50,
   "id": "49106c89-eb97-402e-b1dc-bbd5fb84d7c9",
   "metadata": {
    "collapsed": true,
    "jupyter": {
     "outputs_hidden": true
    },
    "tags": []
   },
   "outputs": [
    {
     "data": {
      "text/html": [
       "<div>\n",
       "<style scoped>\n",
       "    .dataframe tbody tr th:only-of-type {\n",
       "        vertical-align: middle;\n",
       "    }\n",
       "\n",
       "    .dataframe tbody tr th {\n",
       "        vertical-align: top;\n",
       "    }\n",
       "\n",
       "    .dataframe thead th {\n",
       "        text-align: right;\n",
       "    }\n",
       "</style>\n",
       "<table border=\"1\" class=\"dataframe\">\n",
       "  <thead>\n",
       "    <tr style=\"text-align: right;\">\n",
       "      <th></th>\n",
       "      <th>전용면적</th>\n",
       "      <th>지역명</th>\n",
       "      <th>평당분양가격</th>\n",
       "    </tr>\n",
       "  </thead>\n",
       "  <tbody>\n",
       "    <tr>\n",
       "      <th>0</th>\n",
       "      <td>102㎡~</td>\n",
       "      <td>강원</td>\n",
       "      <td>8311.380000</td>\n",
       "    </tr>\n",
       "    <tr>\n",
       "      <th>1</th>\n",
       "      <td>102㎡~</td>\n",
       "      <td>경기</td>\n",
       "      <td>14771.790000</td>\n",
       "    </tr>\n",
       "    <tr>\n",
       "      <th>2</th>\n",
       "      <td>102㎡~</td>\n",
       "      <td>경남</td>\n",
       "      <td>10358.363265</td>\n",
       "    </tr>\n",
       "    <tr>\n",
       "      <th>3</th>\n",
       "      <td>102㎡~</td>\n",
       "      <td>경북</td>\n",
       "      <td>9157.302000</td>\n",
       "    </tr>\n",
       "    <tr>\n",
       "      <th>4</th>\n",
       "      <td>102㎡~</td>\n",
       "      <td>광주</td>\n",
       "      <td>11041.532432</td>\n",
       "    </tr>\n",
       "    <tr>\n",
       "      <th>...</th>\n",
       "      <td>...</td>\n",
       "      <td>...</td>\n",
       "      <td>...</td>\n",
       "    </tr>\n",
       "    <tr>\n",
       "      <th>80</th>\n",
       "      <td>전체</td>\n",
       "      <td>전남</td>\n",
       "      <td>7283.562000</td>\n",
       "    </tr>\n",
       "    <tr>\n",
       "      <th>81</th>\n",
       "      <td>전체</td>\n",
       "      <td>전북</td>\n",
       "      <td>7292.604000</td>\n",
       "    </tr>\n",
       "    <tr>\n",
       "      <th>82</th>\n",
       "      <td>전체</td>\n",
       "      <td>제주</td>\n",
       "      <td>10784.994000</td>\n",
       "    </tr>\n",
       "    <tr>\n",
       "      <th>83</th>\n",
       "      <td>전체</td>\n",
       "      <td>충남</td>\n",
       "      <td>7815.324000</td>\n",
       "    </tr>\n",
       "    <tr>\n",
       "      <th>84</th>\n",
       "      <td>전체</td>\n",
       "      <td>충북</td>\n",
       "      <td>7219.014000</td>\n",
       "    </tr>\n",
       "  </tbody>\n",
       "</table>\n",
       "<p>85 rows × 3 columns</p>\n",
       "</div>"
      ],
      "text/plain": [
       "     전용면적 지역명        평당분양가격\n",
       "0   102㎡~  강원   8311.380000\n",
       "1   102㎡~  경기  14771.790000\n",
       "2   102㎡~  경남  10358.363265\n",
       "3   102㎡~  경북   9157.302000\n",
       "4   102㎡~  광주  11041.532432\n",
       "..    ...  ..           ...\n",
       "80     전체  전남   7283.562000\n",
       "81     전체  전북   7292.604000\n",
       "82     전체  제주  10784.994000\n",
       "83     전체  충남   7815.324000\n",
       "84     전체  충북   7219.014000\n",
       "\n",
       "[85 rows x 3 columns]"
      ]
     },
     "execution_count": 50,
     "metadata": {},
     "output_type": "execute_result"
    }
   ],
   "source": [
    "last_df.groupby(['전용면적','지역명'])['평당분양가격'].mean().to_frame().reset_index()"
   ]
  },
  {
   "cell_type": "code",
   "execution_count": 61,
   "id": "14b61657-55d7-4996-bb05-fa243334bd4f",
   "metadata": {
    "collapsed": true,
    "jupyter": {
     "outputs_hidden": true
    },
    "tags": []
   },
   "outputs": [
    {
     "data": {
      "text/plain": [
       "전용면적   지역명\n",
       "102㎡~  강원      8311.380000\n",
       "       경기     14771.790000\n",
       "       경남     10358.363265\n",
       "       경북      9157.302000\n",
       "       광주     11041.532432\n",
       "                  ...     \n",
       "전체     전남      7283.562000\n",
       "       전북      7292.604000\n",
       "       제주     10784.994000\n",
       "       충남      7815.324000\n",
       "       충북      7219.014000\n",
       "Name: 평당분양가격, Length: 85, dtype: float64"
      ]
     },
     "execution_count": 61,
     "metadata": {},
     "output_type": "execute_result"
    }
   ],
   "source": [
    "last_df.groupby(['전용면적','지역명'])['평당분양가격'].mean()"
   ]
  },
  {
   "cell_type": "code",
   "execution_count": 63,
   "id": "c20deaac-2fea-4222-b457-3c8295cf9464",
   "metadata": {
    "collapsed": true,
    "jupyter": {
     "outputs_hidden": true
    },
    "tags": []
   },
   "outputs": [
    {
     "data": {
      "text/html": [
       "<div>\n",
       "<style scoped>\n",
       "    .dataframe tbody tr th:only-of-type {\n",
       "        vertical-align: middle;\n",
       "    }\n",
       "\n",
       "    .dataframe tbody tr th {\n",
       "        vertical-align: top;\n",
       "    }\n",
       "\n",
       "    .dataframe thead th {\n",
       "        text-align: right;\n",
       "    }\n",
       "</style>\n",
       "<table border=\"1\" class=\"dataframe\">\n",
       "  <thead>\n",
       "    <tr style=\"text-align: right;\">\n",
       "      <th>전용면적</th>\n",
       "      <th>102㎡~</th>\n",
       "      <th>60㎡</th>\n",
       "      <th>60㎡~ 85㎡</th>\n",
       "      <th>85㎡~ 102㎡</th>\n",
       "      <th>전체</th>\n",
       "    </tr>\n",
       "    <tr>\n",
       "      <th>지역명</th>\n",
       "      <th></th>\n",
       "      <th></th>\n",
       "      <th></th>\n",
       "      <th></th>\n",
       "      <th></th>\n",
       "    </tr>\n",
       "  </thead>\n",
       "  <tbody>\n",
       "    <tr>\n",
       "      <th>강원</th>\n",
       "      <td>8311.380000</td>\n",
       "      <td>7567.098000</td>\n",
       "      <td>7485.588000</td>\n",
       "      <td>8749.557143</td>\n",
       "      <td>7477.536000</td>\n",
       "    </tr>\n",
       "    <tr>\n",
       "      <th>경기</th>\n",
       "      <td>14771.790000</td>\n",
       "      <td>13251.744000</td>\n",
       "      <td>12523.566000</td>\n",
       "      <td>13677.774000</td>\n",
       "      <td>12559.602000</td>\n",
       "    </tr>\n",
       "    <tr>\n",
       "      <th>경남</th>\n",
       "      <td>10358.363265</td>\n",
       "      <td>8689.175000</td>\n",
       "      <td>8618.676000</td>\n",
       "      <td>10017.612000</td>\n",
       "      <td>8658.672000</td>\n",
       "    </tr>\n",
       "    <tr>\n",
       "      <th>경북</th>\n",
       "      <td>9157.302000</td>\n",
       "      <td>7883.172000</td>\n",
       "      <td>8061.372000</td>\n",
       "      <td>8773.814634</td>\n",
       "      <td>8078.532000</td>\n",
       "    </tr>\n",
       "    <tr>\n",
       "      <th>광주</th>\n",
       "      <td>11041.532432</td>\n",
       "      <td>9430.666667</td>\n",
       "      <td>9910.692000</td>\n",
       "      <td>9296.100000</td>\n",
       "      <td>9903.630000</td>\n",
       "    </tr>\n",
       "    <tr>\n",
       "      <th>대구</th>\n",
       "      <td>13087.338000</td>\n",
       "      <td>11992.068000</td>\n",
       "      <td>11778.690000</td>\n",
       "      <td>11140.642857</td>\n",
       "      <td>11771.298000</td>\n",
       "    </tr>\n",
       "    <tr>\n",
       "      <th>대전</th>\n",
       "      <td>14876.871429</td>\n",
       "      <td>9176.475000</td>\n",
       "      <td>9711.372000</td>\n",
       "      <td>9037.430769</td>\n",
       "      <td>9786.018000</td>\n",
       "    </tr>\n",
       "    <tr>\n",
       "      <th>부산</th>\n",
       "      <td>13208.250000</td>\n",
       "      <td>11353.782000</td>\n",
       "      <td>11864.820000</td>\n",
       "      <td>12072.588000</td>\n",
       "      <td>11936.166000</td>\n",
       "    </tr>\n",
       "    <tr>\n",
       "      <th>서울</th>\n",
       "      <td>23446.038000</td>\n",
       "      <td>23212.794000</td>\n",
       "      <td>22786.830000</td>\n",
       "      <td>25943.874000</td>\n",
       "      <td>22610.346000</td>\n",
       "    </tr>\n",
       "    <tr>\n",
       "      <th>세종</th>\n",
       "      <td>10106.976000</td>\n",
       "      <td>9323.927027</td>\n",
       "      <td>9775.458000</td>\n",
       "      <td>9847.926000</td>\n",
       "      <td>9805.422000</td>\n",
       "    </tr>\n",
       "    <tr>\n",
       "      <th>울산</th>\n",
       "      <td>9974.448000</td>\n",
       "      <td>9202.106897</td>\n",
       "      <td>10502.531707</td>\n",
       "      <td>8861.007692</td>\n",
       "      <td>10492.712195</td>\n",
       "    </tr>\n",
       "    <tr>\n",
       "      <th>인천</th>\n",
       "      <td>14362.030435</td>\n",
       "      <td>11241.318000</td>\n",
       "      <td>11384.406000</td>\n",
       "      <td>11527.560000</td>\n",
       "      <td>11257.026000</td>\n",
       "    </tr>\n",
       "    <tr>\n",
       "      <th>전남</th>\n",
       "      <td>8168.490000</td>\n",
       "      <td>7210.170000</td>\n",
       "      <td>7269.240000</td>\n",
       "      <td>7908.862500</td>\n",
       "      <td>7283.562000</td>\n",
       "    </tr>\n",
       "    <tr>\n",
       "      <th>전북</th>\n",
       "      <td>8193.570000</td>\n",
       "      <td>7609.932000</td>\n",
       "      <td>7271.352000</td>\n",
       "      <td>8275.781250</td>\n",
       "      <td>7292.604000</td>\n",
       "    </tr>\n",
       "    <tr>\n",
       "      <th>제주</th>\n",
       "      <td>10522.787234</td>\n",
       "      <td>14022.221053</td>\n",
       "      <td>10621.314000</td>\n",
       "      <td>10709.082353</td>\n",
       "      <td>10784.994000</td>\n",
       "    </tr>\n",
       "    <tr>\n",
       "      <th>충남</th>\n",
       "      <td>8689.169388</td>\n",
       "      <td>7911.156000</td>\n",
       "      <td>7818.954000</td>\n",
       "      <td>9120.045000</td>\n",
       "      <td>7815.324000</td>\n",
       "    </tr>\n",
       "    <tr>\n",
       "      <th>충북</th>\n",
       "      <td>8195.352000</td>\n",
       "      <td>7103.118000</td>\n",
       "      <td>7264.488000</td>\n",
       "      <td>8391.306000</td>\n",
       "      <td>7219.014000</td>\n",
       "    </tr>\n",
       "  </tbody>\n",
       "</table>\n",
       "</div>"
      ],
      "text/plain": [
       "전용면적         102㎡~           60㎡      60㎡~ 85㎡     85㎡~ 102㎡            전체\n",
       "지역명                                                                       \n",
       "강원     8311.380000   7567.098000   7485.588000   8749.557143   7477.536000\n",
       "경기    14771.790000  13251.744000  12523.566000  13677.774000  12559.602000\n",
       "경남    10358.363265   8689.175000   8618.676000  10017.612000   8658.672000\n",
       "경북     9157.302000   7883.172000   8061.372000   8773.814634   8078.532000\n",
       "광주    11041.532432   9430.666667   9910.692000   9296.100000   9903.630000\n",
       "대구    13087.338000  11992.068000  11778.690000  11140.642857  11771.298000\n",
       "대전    14876.871429   9176.475000   9711.372000   9037.430769   9786.018000\n",
       "부산    13208.250000  11353.782000  11864.820000  12072.588000  11936.166000\n",
       "서울    23446.038000  23212.794000  22786.830000  25943.874000  22610.346000\n",
       "세종    10106.976000   9323.927027   9775.458000   9847.926000   9805.422000\n",
       "울산     9974.448000   9202.106897  10502.531707   8861.007692  10492.712195\n",
       "인천    14362.030435  11241.318000  11384.406000  11527.560000  11257.026000\n",
       "전남     8168.490000   7210.170000   7269.240000   7908.862500   7283.562000\n",
       "전북     8193.570000   7609.932000   7271.352000   8275.781250   7292.604000\n",
       "제주    10522.787234  14022.221053  10621.314000  10709.082353  10784.994000\n",
       "충남     8689.169388   7911.156000   7818.954000   9120.045000   7815.324000\n",
       "충북     8195.352000   7103.118000   7264.488000   8391.306000   7219.014000"
      ]
     },
     "execution_count": 63,
     "metadata": {},
     "output_type": "execute_result"
    }
   ],
   "source": [
    "last_df.groupby(['전용면적','지역명'])['평당분양가격'].mean().unstack().T"
   ]
  },
  {
   "cell_type": "code",
   "execution_count": 58,
   "id": "930a8b11-0820-4603-a710-41025746edf8",
   "metadata": {
    "tags": []
   },
   "outputs": [
    {
     "data": {
      "text/html": [
       "<div>\n",
       "<style scoped>\n",
       "    .dataframe tbody tr th:only-of-type {\n",
       "        vertical-align: middle;\n",
       "    }\n",
       "\n",
       "    .dataframe tbody tr th {\n",
       "        vertical-align: top;\n",
       "    }\n",
       "\n",
       "    .dataframe thead th {\n",
       "        text-align: right;\n",
       "    }\n",
       "</style>\n",
       "<table border=\"1\" class=\"dataframe\">\n",
       "  <thead>\n",
       "    <tr style=\"text-align: right;\">\n",
       "      <th></th>\n",
       "      <th>col_1</th>\n",
       "    </tr>\n",
       "  </thead>\n",
       "  <tbody>\n",
       "    <tr>\n",
       "      <th>one</th>\n",
       "      <td>1</td>\n",
       "    </tr>\n",
       "    <tr>\n",
       "      <th>two</th>\n",
       "      <td>2</td>\n",
       "    </tr>\n",
       "  </tbody>\n",
       "</table>\n",
       "</div>"
      ],
      "text/plain": [
       "     col_1\n",
       "one      1\n",
       "two      2"
      ]
     },
     "execution_count": 58,
     "metadata": {},
     "output_type": "execute_result"
    }
   ],
   "source": [
    "df = pd.DataFrame({'col_1':[1,2]},index=['one','two'])\n",
    "df"
   ]
  },
  {
   "cell_type": "code",
   "execution_count": 60,
   "id": "b1ea7bb4-48af-4ad3-9dff-92d365fd6250",
   "metadata": {
    "tags": []
   },
   "outputs": [
    {
     "data": {
      "text/plain": [
       "MultiIndex([('one', 'col_1'),\n",
       "            ('two', 'col_1')],\n",
       "           )"
      ]
     },
     "execution_count": 60,
     "metadata": {},
     "output_type": "execute_result"
    }
   ],
   "source": [
    "df.stack().index"
   ]
  },
  {
   "cell_type": "code",
   "execution_count": 72,
   "id": "2f306c91-9118-4b67-a462-9aa410e97f84",
   "metadata": {
    "collapsed": true,
    "jupyter": {
     "outputs_hidden": true
    },
    "tags": []
   },
   "outputs": [
    {
     "data": {
      "text/html": [
       "<div>\n",
       "<style scoped>\n",
       "    .dataframe tbody tr th:only-of-type {\n",
       "        vertical-align: middle;\n",
       "    }\n",
       "\n",
       "    .dataframe tbody tr th {\n",
       "        vertical-align: top;\n",
       "    }\n",
       "\n",
       "    .dataframe thead th {\n",
       "        text-align: right;\n",
       "    }\n",
       "</style>\n",
       "<table border=\"1\" class=\"dataframe\">\n",
       "  <thead>\n",
       "    <tr style=\"text-align: right;\">\n",
       "      <th>지역명</th>\n",
       "      <th>강원</th>\n",
       "      <th>경기</th>\n",
       "      <th>경남</th>\n",
       "      <th>경북</th>\n",
       "      <th>광주</th>\n",
       "      <th>대구</th>\n",
       "      <th>대전</th>\n",
       "      <th>부산</th>\n",
       "      <th>서울</th>\n",
       "      <th>세종</th>\n",
       "      <th>울산</th>\n",
       "      <th>인천</th>\n",
       "      <th>전남</th>\n",
       "      <th>전북</th>\n",
       "      <th>제주</th>\n",
       "      <th>충남</th>\n",
       "      <th>충북</th>\n",
       "    </tr>\n",
       "    <tr>\n",
       "      <th>전용면적</th>\n",
       "      <th></th>\n",
       "      <th></th>\n",
       "      <th></th>\n",
       "      <th></th>\n",
       "      <th></th>\n",
       "      <th></th>\n",
       "      <th></th>\n",
       "      <th></th>\n",
       "      <th></th>\n",
       "      <th></th>\n",
       "      <th></th>\n",
       "      <th></th>\n",
       "      <th></th>\n",
       "      <th></th>\n",
       "      <th></th>\n",
       "      <th></th>\n",
       "      <th></th>\n",
       "    </tr>\n",
       "  </thead>\n",
       "  <tbody>\n",
       "    <tr>\n",
       "      <th>102㎡~</th>\n",
       "      <td>8311.0</td>\n",
       "      <td>14772.0</td>\n",
       "      <td>10358.0</td>\n",
       "      <td>9157.0</td>\n",
       "      <td>11042.0</td>\n",
       "      <td>13087.0</td>\n",
       "      <td>14877.0</td>\n",
       "      <td>13208.0</td>\n",
       "      <td>23446.0</td>\n",
       "      <td>10107.0</td>\n",
       "      <td>9974.0</td>\n",
       "      <td>14362.0</td>\n",
       "      <td>8168.0</td>\n",
       "      <td>8194.0</td>\n",
       "      <td>10523.0</td>\n",
       "      <td>8689.0</td>\n",
       "      <td>8195.0</td>\n",
       "    </tr>\n",
       "    <tr>\n",
       "      <th>60㎡</th>\n",
       "      <td>7567.0</td>\n",
       "      <td>13252.0</td>\n",
       "      <td>8689.0</td>\n",
       "      <td>7883.0</td>\n",
       "      <td>9431.0</td>\n",
       "      <td>11992.0</td>\n",
       "      <td>9176.0</td>\n",
       "      <td>11354.0</td>\n",
       "      <td>23213.0</td>\n",
       "      <td>9324.0</td>\n",
       "      <td>9202.0</td>\n",
       "      <td>11241.0</td>\n",
       "      <td>7210.0</td>\n",
       "      <td>7610.0</td>\n",
       "      <td>14022.0</td>\n",
       "      <td>7911.0</td>\n",
       "      <td>7103.0</td>\n",
       "    </tr>\n",
       "    <tr>\n",
       "      <th>60㎡~ 85㎡</th>\n",
       "      <td>7486.0</td>\n",
       "      <td>12524.0</td>\n",
       "      <td>8619.0</td>\n",
       "      <td>8061.0</td>\n",
       "      <td>9911.0</td>\n",
       "      <td>11779.0</td>\n",
       "      <td>9711.0</td>\n",
       "      <td>11865.0</td>\n",
       "      <td>22787.0</td>\n",
       "      <td>9775.0</td>\n",
       "      <td>10503.0</td>\n",
       "      <td>11384.0</td>\n",
       "      <td>7269.0</td>\n",
       "      <td>7271.0</td>\n",
       "      <td>10621.0</td>\n",
       "      <td>7819.0</td>\n",
       "      <td>7264.0</td>\n",
       "    </tr>\n",
       "    <tr>\n",
       "      <th>85㎡~ 102㎡</th>\n",
       "      <td>8750.0</td>\n",
       "      <td>13678.0</td>\n",
       "      <td>10018.0</td>\n",
       "      <td>8774.0</td>\n",
       "      <td>9296.0</td>\n",
       "      <td>11141.0</td>\n",
       "      <td>9037.0</td>\n",
       "      <td>12073.0</td>\n",
       "      <td>25944.0</td>\n",
       "      <td>9848.0</td>\n",
       "      <td>8861.0</td>\n",
       "      <td>11528.0</td>\n",
       "      <td>7909.0</td>\n",
       "      <td>8276.0</td>\n",
       "      <td>10709.0</td>\n",
       "      <td>9120.0</td>\n",
       "      <td>8391.0</td>\n",
       "    </tr>\n",
       "    <tr>\n",
       "      <th>전체</th>\n",
       "      <td>7478.0</td>\n",
       "      <td>12560.0</td>\n",
       "      <td>8659.0</td>\n",
       "      <td>8079.0</td>\n",
       "      <td>9904.0</td>\n",
       "      <td>11771.0</td>\n",
       "      <td>9786.0</td>\n",
       "      <td>11936.0</td>\n",
       "      <td>22610.0</td>\n",
       "      <td>9805.0</td>\n",
       "      <td>10493.0</td>\n",
       "      <td>11257.0</td>\n",
       "      <td>7284.0</td>\n",
       "      <td>7293.0</td>\n",
       "      <td>10785.0</td>\n",
       "      <td>7815.0</td>\n",
       "      <td>7219.0</td>\n",
       "    </tr>\n",
       "  </tbody>\n",
       "</table>\n",
       "</div>"
      ],
      "text/plain": [
       "지역명            강원       경기       경남      경북       광주       대구       대전   \n",
       "전용면적                                                                     \n",
       "102㎡~      8311.0  14772.0  10358.0  9157.0  11042.0  13087.0  14877.0  \\\n",
       "60㎡        7567.0  13252.0   8689.0  7883.0   9431.0  11992.0   9176.0   \n",
       "60㎡~ 85㎡   7486.0  12524.0   8619.0  8061.0   9911.0  11779.0   9711.0   \n",
       "85㎡~ 102㎡  8750.0  13678.0  10018.0  8774.0   9296.0  11141.0   9037.0   \n",
       "전체         7478.0  12560.0   8659.0  8079.0   9904.0  11771.0   9786.0   \n",
       "\n",
       "지역명             부산       서울       세종       울산       인천      전남      전북   \n",
       "전용면적                                                                     \n",
       "102㎡~      13208.0  23446.0  10107.0   9974.0  14362.0  8168.0  8194.0  \\\n",
       "60㎡        11354.0  23213.0   9324.0   9202.0  11241.0  7210.0  7610.0   \n",
       "60㎡~ 85㎡   11865.0  22787.0   9775.0  10503.0  11384.0  7269.0  7271.0   \n",
       "85㎡~ 102㎡  12073.0  25944.0   9848.0   8861.0  11528.0  7909.0  8276.0   \n",
       "전체         11936.0  22610.0   9805.0  10493.0  11257.0  7284.0  7293.0   \n",
       "\n",
       "지역명             제주      충남      충북  \n",
       "전용면적                                \n",
       "102㎡~      10523.0  8689.0  8195.0  \n",
       "60㎡        14022.0  7911.0  7103.0  \n",
       "60㎡~ 85㎡   10621.0  7819.0  7264.0  \n",
       "85㎡~ 102㎡  10709.0  9120.0  8391.0  \n",
       "전체         10785.0  7815.0  7219.0  "
      ]
     },
     "execution_count": 72,
     "metadata": {},
     "output_type": "execute_result"
    }
   ],
   "source": [
    "last_df.groupby(['전용면적','지역명'])['평당분양가격'].mean().unstack(level=1).round()"
   ]
  },
  {
   "cell_type": "code",
   "execution_count": 75,
   "id": "5c90a449-a548-437c-b1be-1a895838b3bb",
   "metadata": {
    "collapsed": true,
    "jupyter": {
     "outputs_hidden": true
    },
    "tags": []
   },
   "outputs": [
    {
     "data": {
      "text/html": [
       "<div>\n",
       "<style scoped>\n",
       "    .dataframe tbody tr th:only-of-type {\n",
       "        vertical-align: middle;\n",
       "    }\n",
       "\n",
       "    .dataframe tbody tr th {\n",
       "        vertical-align: top;\n",
       "    }\n",
       "\n",
       "    .dataframe thead th {\n",
       "        text-align: right;\n",
       "    }\n",
       "</style>\n",
       "<table border=\"1\" class=\"dataframe\">\n",
       "  <thead>\n",
       "    <tr style=\"text-align: right;\">\n",
       "      <th>연도</th>\n",
       "      <th>2015</th>\n",
       "      <th>2016</th>\n",
       "      <th>2017</th>\n",
       "      <th>2018</th>\n",
       "      <th>2019</th>\n",
       "    </tr>\n",
       "    <tr>\n",
       "      <th>지역명</th>\n",
       "      <th></th>\n",
       "      <th></th>\n",
       "      <th></th>\n",
       "      <th></th>\n",
       "      <th></th>\n",
       "    </tr>\n",
       "  </thead>\n",
       "  <tbody>\n",
       "    <tr>\n",
       "      <th>강원</th>\n",
       "      <td>7188.060</td>\n",
       "      <td>7162.903846</td>\n",
       "      <td>7273.560000</td>\n",
       "      <td>8219.255000</td>\n",
       "      <td>8934.475000</td>\n",
       "    </tr>\n",
       "    <tr>\n",
       "      <th>경기</th>\n",
       "      <td>11060.940</td>\n",
       "      <td>11684.970000</td>\n",
       "      <td>12304.980000</td>\n",
       "      <td>14258.420000</td>\n",
       "      <td>15665.540000</td>\n",
       "    </tr>\n",
       "    <tr>\n",
       "      <th>경남</th>\n",
       "      <td>8459.220</td>\n",
       "      <td>8496.730000</td>\n",
       "      <td>8786.760000</td>\n",
       "      <td>9327.670000</td>\n",
       "      <td>10697.615789</td>\n",
       "    </tr>\n",
       "    <tr>\n",
       "      <th>경북</th>\n",
       "      <td>7464.160</td>\n",
       "      <td>7753.405000</td>\n",
       "      <td>8280.800000</td>\n",
       "      <td>8680.776923</td>\n",
       "      <td>9050.250000</td>\n",
       "    </tr>\n",
       "    <tr>\n",
       "      <th>광주</th>\n",
       "      <td>7916.700</td>\n",
       "      <td>9190.683333</td>\n",
       "      <td>9613.977551</td>\n",
       "      <td>9526.953333</td>\n",
       "      <td>12111.675000</td>\n",
       "    </tr>\n",
       "    <tr>\n",
       "      <th>대구</th>\n",
       "      <td>9018.900</td>\n",
       "      <td>10282.030000</td>\n",
       "      <td>12206.700000</td>\n",
       "      <td>12139.252632</td>\n",
       "      <td>14081.650000</td>\n",
       "    </tr>\n",
       "    <tr>\n",
       "      <th>대전</th>\n",
       "      <td>8190.600</td>\n",
       "      <td>8910.733333</td>\n",
       "      <td>9957.158491</td>\n",
       "      <td>10234.106667</td>\n",
       "      <td>12619.200000</td>\n",
       "    </tr>\n",
       "    <tr>\n",
       "      <th>부산</th>\n",
       "      <td>10377.400</td>\n",
       "      <td>10743.535000</td>\n",
       "      <td>11560.680000</td>\n",
       "      <td>12889.965000</td>\n",
       "      <td>13537.865000</td>\n",
       "    </tr>\n",
       "    <tr>\n",
       "      <th>서울</th>\n",
       "      <td>20315.680</td>\n",
       "      <td>21753.435000</td>\n",
       "      <td>21831.060000</td>\n",
       "      <td>23202.245000</td>\n",
       "      <td>28286.830000</td>\n",
       "    </tr>\n",
       "    <tr>\n",
       "      <th>세종</th>\n",
       "      <td>8765.020</td>\n",
       "      <td>8857.805000</td>\n",
       "      <td>9132.505556</td>\n",
       "      <td>10340.463158</td>\n",
       "      <td>11299.394118</td>\n",
       "    </tr>\n",
       "    <tr>\n",
       "      <th>울산</th>\n",
       "      <td>9367.600</td>\n",
       "      <td>9582.574138</td>\n",
       "      <td>10666.935714</td>\n",
       "      <td>10241.400000</td>\n",
       "      <td>10216.250000</td>\n",
       "    </tr>\n",
       "    <tr>\n",
       "      <th>인천</th>\n",
       "      <td>10976.020</td>\n",
       "      <td>11099.055000</td>\n",
       "      <td>11640.600000</td>\n",
       "      <td>11881.532143</td>\n",
       "      <td>13249.775000</td>\n",
       "    </tr>\n",
       "    <tr>\n",
       "      <th>전남</th>\n",
       "      <td>6798.880</td>\n",
       "      <td>6936.600000</td>\n",
       "      <td>7372.920000</td>\n",
       "      <td>7929.845000</td>\n",
       "      <td>8219.275862</td>\n",
       "    </tr>\n",
       "    <tr>\n",
       "      <th>전북</th>\n",
       "      <td>7110.400</td>\n",
       "      <td>6906.625000</td>\n",
       "      <td>7398.973585</td>\n",
       "      <td>8174.595000</td>\n",
       "      <td>8532.260000</td>\n",
       "    </tr>\n",
       "    <tr>\n",
       "      <th>제주</th>\n",
       "      <td>7951.075</td>\n",
       "      <td>9567.480000</td>\n",
       "      <td>12566.730000</td>\n",
       "      <td>11935.968000</td>\n",
       "      <td>11828.469231</td>\n",
       "    </tr>\n",
       "    <tr>\n",
       "      <th>충남</th>\n",
       "      <td>7689.880</td>\n",
       "      <td>7958.225000</td>\n",
       "      <td>8198.422222</td>\n",
       "      <td>8201.820000</td>\n",
       "      <td>8748.840000</td>\n",
       "    </tr>\n",
       "    <tr>\n",
       "      <th>충북</th>\n",
       "      <td>6828.800</td>\n",
       "      <td>7133.335000</td>\n",
       "      <td>7473.120000</td>\n",
       "      <td>8149.295000</td>\n",
       "      <td>7970.875000</td>\n",
       "    </tr>\n",
       "  </tbody>\n",
       "</table>\n",
       "</div>"
      ],
      "text/plain": [
       "연도        2015          2016          2017          2018          2019\n",
       "지역명                                                                   \n",
       "강원    7188.060   7162.903846   7273.560000   8219.255000   8934.475000\n",
       "경기   11060.940  11684.970000  12304.980000  14258.420000  15665.540000\n",
       "경남    8459.220   8496.730000   8786.760000   9327.670000  10697.615789\n",
       "경북    7464.160   7753.405000   8280.800000   8680.776923   9050.250000\n",
       "광주    7916.700   9190.683333   9613.977551   9526.953333  12111.675000\n",
       "대구    9018.900  10282.030000  12206.700000  12139.252632  14081.650000\n",
       "대전    8190.600   8910.733333   9957.158491  10234.106667  12619.200000\n",
       "부산   10377.400  10743.535000  11560.680000  12889.965000  13537.865000\n",
       "서울   20315.680  21753.435000  21831.060000  23202.245000  28286.830000\n",
       "세종    8765.020   8857.805000   9132.505556  10340.463158  11299.394118\n",
       "울산    9367.600   9582.574138  10666.935714  10241.400000  10216.250000\n",
       "인천   10976.020  11099.055000  11640.600000  11881.532143  13249.775000\n",
       "전남    6798.880   6936.600000   7372.920000   7929.845000   8219.275862\n",
       "전북    7110.400   6906.625000   7398.973585   8174.595000   8532.260000\n",
       "제주    7951.075   9567.480000  12566.730000  11935.968000  11828.469231\n",
       "충남    7689.880   7958.225000   8198.422222   8201.820000   8748.840000\n",
       "충북    6828.800   7133.335000   7473.120000   8149.295000   7970.875000"
      ]
     },
     "execution_count": 75,
     "metadata": {},
     "output_type": "execute_result"
    }
   ],
   "source": [
    "#연도별 지역별 평당분양가격\n",
    "last_df.groupby(['연도','지역명'])['평당분양가격'].mean().unstack(level=0)"
   ]
  },
  {
   "cell_type": "code",
   "execution_count": 76,
   "id": "8f6eb24e-35ee-4b9f-ac73-6c307782a0f5",
   "metadata": {
    "collapsed": true,
    "jupyter": {
     "outputs_hidden": true
    },
    "tags": []
   },
   "outputs": [
    {
     "data": {
      "text/html": [
       "<div>\n",
       "<style scoped>\n",
       "    .dataframe tbody tr th:only-of-type {\n",
       "        vertical-align: middle;\n",
       "    }\n",
       "\n",
       "    .dataframe tbody tr th {\n",
       "        vertical-align: top;\n",
       "    }\n",
       "\n",
       "    .dataframe thead th {\n",
       "        text-align: right;\n",
       "    }\n",
       "</style>\n",
       "<table border=\"1\" class=\"dataframe\">\n",
       "  <thead>\n",
       "    <tr style=\"text-align: right;\">\n",
       "      <th></th>\n",
       "      <th>평당분양가격</th>\n",
       "    </tr>\n",
       "    <tr>\n",
       "      <th>지역명</th>\n",
       "      <th></th>\n",
       "    </tr>\n",
       "  </thead>\n",
       "  <tbody>\n",
       "    <tr>\n",
       "      <th>강원</th>\n",
       "      <td>7890.750000</td>\n",
       "    </tr>\n",
       "    <tr>\n",
       "      <th>경기</th>\n",
       "      <td>13356.895200</td>\n",
       "    </tr>\n",
       "    <tr>\n",
       "      <th>경남</th>\n",
       "      <td>9268.778138</td>\n",
       "    </tr>\n",
       "    <tr>\n",
       "      <th>경북</th>\n",
       "      <td>8376.536515</td>\n",
       "    </tr>\n",
       "    <tr>\n",
       "      <th>광주</th>\n",
       "      <td>9951.535821</td>\n",
       "    </tr>\n",
       "    <tr>\n",
       "      <th>대구</th>\n",
       "      <td>11980.895455</td>\n",
       "    </tr>\n",
       "    <tr>\n",
       "      <th>대전</th>\n",
       "      <td>10253.333333</td>\n",
       "    </tr>\n",
       "    <tr>\n",
       "      <th>부산</th>\n",
       "      <td>12087.121200</td>\n",
       "    </tr>\n",
       "    <tr>\n",
       "      <th>서울</th>\n",
       "      <td>23599.976400</td>\n",
       "    </tr>\n",
       "    <tr>\n",
       "      <th>세종</th>\n",
       "      <td>9796.516456</td>\n",
       "    </tr>\n",
       "    <tr>\n",
       "      <th>울산</th>\n",
       "      <td>10014.902013</td>\n",
       "    </tr>\n",
       "    <tr>\n",
       "      <th>인천</th>\n",
       "      <td>11915.320732</td>\n",
       "    </tr>\n",
       "    <tr>\n",
       "      <th>전남</th>\n",
       "      <td>7565.316532</td>\n",
       "    </tr>\n",
       "    <tr>\n",
       "      <th>전북</th>\n",
       "      <td>7724.235484</td>\n",
       "    </tr>\n",
       "    <tr>\n",
       "      <th>제주</th>\n",
       "      <td>11241.276712</td>\n",
       "    </tr>\n",
       "    <tr>\n",
       "      <th>충남</th>\n",
       "      <td>8233.651883</td>\n",
       "    </tr>\n",
       "    <tr>\n",
       "      <th>충북</th>\n",
       "      <td>7634.655600</td>\n",
       "    </tr>\n",
       "  </tbody>\n",
       "</table>\n",
       "</div>"
      ],
      "text/plain": [
       "           평당분양가격\n",
       "지역명              \n",
       "강원    7890.750000\n",
       "경기   13356.895200\n",
       "경남    9268.778138\n",
       "경북    8376.536515\n",
       "광주    9951.535821\n",
       "대구   11980.895455\n",
       "대전   10253.333333\n",
       "부산   12087.121200\n",
       "서울   23599.976400\n",
       "세종    9796.516456\n",
       "울산   10014.902013\n",
       "인천   11915.320732\n",
       "전남    7565.316532\n",
       "전북    7724.235484\n",
       "제주   11241.276712\n",
       "충남    8233.651883\n",
       "충북    7634.655600"
      ]
     },
     "execution_count": 76,
     "metadata": {},
     "output_type": "execute_result"
    }
   ],
   "source": [
    "#지역별 평당분양가격 평균\n",
    "last_df.pivot_table(index='지역명',values='평당분양가격',aggfunc='mean')"
   ]
  },
  {
   "cell_type": "code",
   "execution_count": 77,
   "id": "4b604a3b-4b5e-450b-82f4-cea73f36b642",
   "metadata": {
    "collapsed": true,
    "jupyter": {
     "outputs_hidden": true
    },
    "tags": []
   },
   "outputs": [
    {
     "data": {
      "text/html": [
       "<div>\n",
       "<style scoped>\n",
       "    .dataframe tbody tr th:only-of-type {\n",
       "        vertical-align: middle;\n",
       "    }\n",
       "\n",
       "    .dataframe tbody tr th {\n",
       "        vertical-align: top;\n",
       "    }\n",
       "\n",
       "    .dataframe thead th {\n",
       "        text-align: right;\n",
       "    }\n",
       "</style>\n",
       "<table border=\"1\" class=\"dataframe\">\n",
       "  <thead>\n",
       "    <tr style=\"text-align: right;\">\n",
       "      <th></th>\n",
       "      <th>평당분양가격</th>\n",
       "    </tr>\n",
       "    <tr>\n",
       "      <th>지역명</th>\n",
       "      <th></th>\n",
       "    </tr>\n",
       "  </thead>\n",
       "  <tbody>\n",
       "    <tr>\n",
       "      <th>강원</th>\n",
       "      <td>11873.4</td>\n",
       "    </tr>\n",
       "    <tr>\n",
       "      <th>경기</th>\n",
       "      <td>18711.0</td>\n",
       "    </tr>\n",
       "    <tr>\n",
       "      <th>경남</th>\n",
       "      <td>14199.9</td>\n",
       "    </tr>\n",
       "    <tr>\n",
       "      <th>경북</th>\n",
       "      <td>11408.1</td>\n",
       "    </tr>\n",
       "    <tr>\n",
       "      <th>광주</th>\n",
       "      <td>16107.3</td>\n",
       "    </tr>\n",
       "    <tr>\n",
       "      <th>대구</th>\n",
       "      <td>17021.4</td>\n",
       "    </tr>\n",
       "    <tr>\n",
       "      <th>대전</th>\n",
       "      <td>16094.1</td>\n",
       "    </tr>\n",
       "    <tr>\n",
       "      <th>부산</th>\n",
       "      <td>15255.9</td>\n",
       "    </tr>\n",
       "    <tr>\n",
       "      <th>서울</th>\n",
       "      <td>42002.4</td>\n",
       "    </tr>\n",
       "    <tr>\n",
       "      <th>세종</th>\n",
       "      <td>12972.3</td>\n",
       "    </tr>\n",
       "    <tr>\n",
       "      <th>울산</th>\n",
       "      <td>11860.2</td>\n",
       "    </tr>\n",
       "    <tr>\n",
       "      <th>인천</th>\n",
       "      <td>17120.4</td>\n",
       "    </tr>\n",
       "    <tr>\n",
       "      <th>전남</th>\n",
       "      <td>10074.9</td>\n",
       "    </tr>\n",
       "    <tr>\n",
       "      <th>전북</th>\n",
       "      <td>10071.6</td>\n",
       "    </tr>\n",
       "    <tr>\n",
       "      <th>제주</th>\n",
       "      <td>18024.6</td>\n",
       "    </tr>\n",
       "    <tr>\n",
       "      <th>충남</th>\n",
       "      <td>10563.3</td>\n",
       "    </tr>\n",
       "    <tr>\n",
       "      <th>충북</th>\n",
       "      <td>9421.5</td>\n",
       "    </tr>\n",
       "  </tbody>\n",
       "</table>\n",
       "</div>"
      ],
      "text/plain": [
       "      평당분양가격\n",
       "지역명         \n",
       "강원   11873.4\n",
       "경기   18711.0\n",
       "경남   14199.9\n",
       "경북   11408.1\n",
       "광주   16107.3\n",
       "대구   17021.4\n",
       "대전   16094.1\n",
       "부산   15255.9\n",
       "서울   42002.4\n",
       "세종   12972.3\n",
       "울산   11860.2\n",
       "인천   17120.4\n",
       "전남   10074.9\n",
       "전북   10071.6\n",
       "제주   18024.6\n",
       "충남   10563.3\n",
       "충북    9421.5"
      ]
     },
     "execution_count": 77,
     "metadata": {},
     "output_type": "execute_result"
    }
   ],
   "source": [
    "#지역별 평당분양가격 가장큰가격\n",
    "last_df.pivot_table(index='지역명',values='평당분양가격',aggfunc='max')"
   ]
  },
  {
   "cell_type": "code",
   "execution_count": 78,
   "id": "c66e2cc1-ec2f-4292-904c-804835afac96",
   "metadata": {
    "collapsed": true,
    "jupyter": {
     "outputs_hidden": true
    },
    "tags": []
   },
   "outputs": [
    {
     "data": {
      "text/html": [
       "<div>\n",
       "<style scoped>\n",
       "    .dataframe tbody tr th:only-of-type {\n",
       "        vertical-align: middle;\n",
       "    }\n",
       "\n",
       "    .dataframe tbody tr th {\n",
       "        vertical-align: top;\n",
       "    }\n",
       "\n",
       "    .dataframe thead th {\n",
       "        text-align: right;\n",
       "    }\n",
       "</style>\n",
       "<table border=\"1\" class=\"dataframe\">\n",
       "  <thead>\n",
       "    <tr style=\"text-align: right;\">\n",
       "      <th></th>\n",
       "      <th>평당분양가격</th>\n",
       "    </tr>\n",
       "    <tr>\n",
       "      <th>전용면적</th>\n",
       "      <th></th>\n",
       "    </tr>\n",
       "  </thead>\n",
       "  <tbody>\n",
       "    <tr>\n",
       "      <th>102㎡~</th>\n",
       "      <td>11517.705634</td>\n",
       "    </tr>\n",
       "    <tr>\n",
       "      <th>60㎡</th>\n",
       "      <td>10375.137421</td>\n",
       "    </tr>\n",
       "    <tr>\n",
       "      <th>60㎡~ 85㎡</th>\n",
       "      <td>10271.040071</td>\n",
       "    </tr>\n",
       "    <tr>\n",
       "      <th>85㎡~ 102㎡</th>\n",
       "      <td>11097.599573</td>\n",
       "    </tr>\n",
       "    <tr>\n",
       "      <th>전체</th>\n",
       "      <td>10276.086207</td>\n",
       "    </tr>\n",
       "  </tbody>\n",
       "</table>\n",
       "</div>"
      ],
      "text/plain": [
       "                 평당분양가격\n",
       "전용면적                   \n",
       "102㎡~      11517.705634\n",
       "60㎡        10375.137421\n",
       "60㎡~ 85㎡   10271.040071\n",
       "85㎡~ 102㎡  11097.599573\n",
       "전체         10276.086207"
      ]
     },
     "execution_count": 78,
     "metadata": {},
     "output_type": "execute_result"
    }
   ],
   "source": [
    "#전용면적별 평당분양가격\n",
    "last_df.pivot_table(index='전용면적',values='평당분양가격',aggfunc='mean')"
   ]
  },
  {
   "cell_type": "code",
   "execution_count": 80,
   "id": "11a6b2e8-dd59-44f1-8c8e-2439b73ca070",
   "metadata": {
    "collapsed": true,
    "jupyter": {
     "outputs_hidden": true
    },
    "tags": []
   },
   "outputs": [
    {
     "data": {
      "text/html": [
       "<div>\n",
       "<style scoped>\n",
       "    .dataframe tbody tr th:only-of-type {\n",
       "        vertical-align: middle;\n",
       "    }\n",
       "\n",
       "    .dataframe tbody tr th {\n",
       "        vertical-align: top;\n",
       "    }\n",
       "\n",
       "    .dataframe thead th {\n",
       "        text-align: right;\n",
       "    }\n",
       "</style>\n",
       "<table border=\"1\" class=\"dataframe\">\n",
       "  <thead>\n",
       "    <tr style=\"text-align: right;\">\n",
       "      <th>지역명</th>\n",
       "      <th>강원</th>\n",
       "      <th>경기</th>\n",
       "      <th>경남</th>\n",
       "      <th>경북</th>\n",
       "      <th>광주</th>\n",
       "      <th>대구</th>\n",
       "      <th>대전</th>\n",
       "      <th>부산</th>\n",
       "      <th>서울</th>\n",
       "      <th>세종</th>\n",
       "      <th>울산</th>\n",
       "      <th>인천</th>\n",
       "      <th>전남</th>\n",
       "      <th>전북</th>\n",
       "      <th>제주</th>\n",
       "      <th>충남</th>\n",
       "      <th>충북</th>\n",
       "    </tr>\n",
       "    <tr>\n",
       "      <th>전용면적</th>\n",
       "      <th></th>\n",
       "      <th></th>\n",
       "      <th></th>\n",
       "      <th></th>\n",
       "      <th></th>\n",
       "      <th></th>\n",
       "      <th></th>\n",
       "      <th></th>\n",
       "      <th></th>\n",
       "      <th></th>\n",
       "      <th></th>\n",
       "      <th></th>\n",
       "      <th></th>\n",
       "      <th></th>\n",
       "      <th></th>\n",
       "      <th></th>\n",
       "      <th></th>\n",
       "    </tr>\n",
       "  </thead>\n",
       "  <tbody>\n",
       "    <tr>\n",
       "      <th>102㎡~</th>\n",
       "      <td>8311.380000</td>\n",
       "      <td>14771.790</td>\n",
       "      <td>10358.363265</td>\n",
       "      <td>9157.302000</td>\n",
       "      <td>11041.532432</td>\n",
       "      <td>13087.338000</td>\n",
       "      <td>14876.871429</td>\n",
       "      <td>13208.250</td>\n",
       "      <td>23446.038</td>\n",
       "      <td>10106.976000</td>\n",
       "      <td>9974.448000</td>\n",
       "      <td>14362.030435</td>\n",
       "      <td>8168.4900</td>\n",
       "      <td>8193.57000</td>\n",
       "      <td>10522.787234</td>\n",
       "      <td>8689.169388</td>\n",
       "      <td>8195.352</td>\n",
       "    </tr>\n",
       "    <tr>\n",
       "      <th>60㎡</th>\n",
       "      <td>7567.098000</td>\n",
       "      <td>13251.744</td>\n",
       "      <td>8689.175000</td>\n",
       "      <td>7883.172000</td>\n",
       "      <td>9430.666667</td>\n",
       "      <td>11992.068000</td>\n",
       "      <td>9176.475000</td>\n",
       "      <td>11353.782</td>\n",
       "      <td>23212.794</td>\n",
       "      <td>9323.927027</td>\n",
       "      <td>9202.106897</td>\n",
       "      <td>11241.318000</td>\n",
       "      <td>7210.1700</td>\n",
       "      <td>7609.93200</td>\n",
       "      <td>14022.221053</td>\n",
       "      <td>7911.156000</td>\n",
       "      <td>7103.118</td>\n",
       "    </tr>\n",
       "    <tr>\n",
       "      <th>60㎡~ 85㎡</th>\n",
       "      <td>7485.588000</td>\n",
       "      <td>12523.566</td>\n",
       "      <td>8618.676000</td>\n",
       "      <td>8061.372000</td>\n",
       "      <td>9910.692000</td>\n",
       "      <td>11778.690000</td>\n",
       "      <td>9711.372000</td>\n",
       "      <td>11864.820</td>\n",
       "      <td>22786.830</td>\n",
       "      <td>9775.458000</td>\n",
       "      <td>10502.531707</td>\n",
       "      <td>11384.406000</td>\n",
       "      <td>7269.2400</td>\n",
       "      <td>7271.35200</td>\n",
       "      <td>10621.314000</td>\n",
       "      <td>7818.954000</td>\n",
       "      <td>7264.488</td>\n",
       "    </tr>\n",
       "    <tr>\n",
       "      <th>85㎡~ 102㎡</th>\n",
       "      <td>8749.557143</td>\n",
       "      <td>13677.774</td>\n",
       "      <td>10017.612000</td>\n",
       "      <td>8773.814634</td>\n",
       "      <td>9296.100000</td>\n",
       "      <td>11140.642857</td>\n",
       "      <td>9037.430769</td>\n",
       "      <td>12072.588</td>\n",
       "      <td>25943.874</td>\n",
       "      <td>9847.926000</td>\n",
       "      <td>8861.007692</td>\n",
       "      <td>11527.560000</td>\n",
       "      <td>7908.8625</td>\n",
       "      <td>8275.78125</td>\n",
       "      <td>10709.082353</td>\n",
       "      <td>9120.045000</td>\n",
       "      <td>8391.306</td>\n",
       "    </tr>\n",
       "    <tr>\n",
       "      <th>전체</th>\n",
       "      <td>7477.536000</td>\n",
       "      <td>12559.602</td>\n",
       "      <td>8658.672000</td>\n",
       "      <td>8078.532000</td>\n",
       "      <td>9903.630000</td>\n",
       "      <td>11771.298000</td>\n",
       "      <td>9786.018000</td>\n",
       "      <td>11936.166</td>\n",
       "      <td>22610.346</td>\n",
       "      <td>9805.422000</td>\n",
       "      <td>10492.712195</td>\n",
       "      <td>11257.026000</td>\n",
       "      <td>7283.5620</td>\n",
       "      <td>7292.60400</td>\n",
       "      <td>10784.994000</td>\n",
       "      <td>7815.324000</td>\n",
       "      <td>7219.014</td>\n",
       "    </tr>\n",
       "  </tbody>\n",
       "</table>\n",
       "</div>"
      ],
      "text/plain": [
       "지역명                 강원         경기            경남           경북            광주   \n",
       "전용면적                                                                         \n",
       "102㎡~      8311.380000  14771.790  10358.363265  9157.302000  11041.532432  \\\n",
       "60㎡        7567.098000  13251.744   8689.175000  7883.172000   9430.666667   \n",
       "60㎡~ 85㎡   7485.588000  12523.566   8618.676000  8061.372000   9910.692000   \n",
       "85㎡~ 102㎡  8749.557143  13677.774  10017.612000  8773.814634   9296.100000   \n",
       "전체         7477.536000  12559.602   8658.672000  8078.532000   9903.630000   \n",
       "\n",
       "지역명                  대구            대전         부산         서울            세종   \n",
       "전용면적                                                                        \n",
       "102㎡~      13087.338000  14876.871429  13208.250  23446.038  10106.976000  \\\n",
       "60㎡        11992.068000   9176.475000  11353.782  23212.794   9323.927027   \n",
       "60㎡~ 85㎡   11778.690000   9711.372000  11864.820  22786.830   9775.458000   \n",
       "85㎡~ 102㎡  11140.642857   9037.430769  12072.588  25943.874   9847.926000   \n",
       "전체         11771.298000   9786.018000  11936.166  22610.346   9805.422000   \n",
       "\n",
       "지역명                  울산            인천         전남          전북            제주   \n",
       "전용면적                                                                         \n",
       "102㎡~       9974.448000  14362.030435  8168.4900  8193.57000  10522.787234  \\\n",
       "60㎡         9202.106897  11241.318000  7210.1700  7609.93200  14022.221053   \n",
       "60㎡~ 85㎡   10502.531707  11384.406000  7269.2400  7271.35200  10621.314000   \n",
       "85㎡~ 102㎡   8861.007692  11527.560000  7908.8625  8275.78125  10709.082353   \n",
       "전체         10492.712195  11257.026000  7283.5620  7292.60400  10784.994000   \n",
       "\n",
       "지역명                 충남        충북  \n",
       "전용면적                              \n",
       "102㎡~      8689.169388  8195.352  \n",
       "60㎡        7911.156000  7103.118  \n",
       "60㎡~ 85㎡   7818.954000  7264.488  \n",
       "85㎡~ 102㎡  9120.045000  8391.306  \n",
       "전체         7815.324000  7219.014  "
      ]
     },
     "execution_count": 80,
     "metadata": {},
     "output_type": "execute_result"
    }
   ],
   "source": [
    "last_df.pivot_table(index='전용면적',columns='지역명',values='평당분양가격')"
   ]
  },
  {
   "cell_type": "code",
   "execution_count": 81,
   "id": "97236df4-d8bf-489d-b167-a2c578c59d22",
   "metadata": {
    "tags": []
   },
   "outputs": [],
   "source": [
    "import matplotlib.pyplot as plt"
   ]
  },
  {
   "cell_type": "code",
   "execution_count": 85,
   "id": "71d865f5-e7e8-48a3-b1d3-d4499fba7fce",
   "metadata": {
    "collapsed": true,
    "jupyter": {
     "outputs_hidden": true
    },
    "tags": []
   },
   "outputs": [
    {
     "data": {
      "text/plain": [
       "<AxesSubplot: xlabel='지역명'>"
      ]
     },
     "execution_count": 85,
     "metadata": {},
     "output_type": "execute_result"
    },
    {
     "data": {
      "image/png": "[encoded data removed]",
      "text/plain": [
       "<Figure size 640x480 with 1 Axes>"
      ]
     },
     "metadata": {},
     "output_type": "display_data"
    }
   ],
   "source": [
    "#지역별 평당분양가격의 평균값을 선 그래프로 작성\n",
    "g = last_df.groupby(['지역명'])['평당분양가격'].mean().to_frame()\n",
    "g.plot()"
   ]
  },
  {
   "cell_type": "code",
   "execution_count": 87,
   "id": "530458a9-59e9-4c45-9093-06aa4f4d453f",
   "metadata": {
    "collapsed": true,
    "jupyter": {
     "outputs_hidden": true
    },
    "tags": []
   },
   "outputs": [
    {
     "data": {
      "text/plain": [
       "<AxesSubplot: ylabel='지역명'>"
      ]
     },
     "execution_count": 87,
     "metadata": {},
     "output_type": "execute_result"
    },
    {
     "data": {
      "image/png": "[encoded data removed]",
      "text/plain": [
       "<Figure size 640x480 with 1 Axes>"
      ]
     },
     "metadata": {},
     "output_type": "display_data"
    }
   ],
   "source": [
    "g.plot(kind='barh')"
   ]
  },
  {
   "cell_type": "code",
   "execution_count": 88,
   "id": "8447f9bc-a0ae-47f6-b6df-2a5a5c193637",
   "metadata": {
    "tags": []
   },
   "outputs": [
    {
     "data": {
      "text/plain": [
       "<AxesSubplot: ylabel='지역명'>"
      ]
     },
     "execution_count": 88,
     "metadata": {},
     "output_type": "execute_result"
    },
    {
     "data": {
      "image/png": "[encoded data removed]",
      "text/plain": [
       "<Figure size 640x480 with 1 Axes>"
      ]
     },
     "metadata": {},
     "output_type": "display_data"
    }
   ],
   "source": [
    "g.plot.barh()"
   ]
  },
  {
   "cell_type": "code",
   "execution_count": null,
   "id": "824247d6-0068-4c26-aaef-e7f925909969",
   "metadata": {},
   "outputs": [],
   "source": []
  }
 ],
 "metadata": {
  "kernelspec": {
   "display_name": "Python 3 (ipykernel)",
   "language": "python",
   "name": "python3"
  },
  "language_info": {
   "codemirror_mode": {
    "name": "ipython",
    "version": 3
   },
   "file_extension": ".py",
   "mimetype": "text/x-python",
   "name": "python",
   "nbconvert_exporter": "python",
   "pygments_lexer": "ipython3",
   "version": "3.11.1"
  }
 },
 "nbformat": 4,
 "nbformat_minor": 5
}
