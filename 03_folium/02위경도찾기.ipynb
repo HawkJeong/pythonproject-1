{
 "cells": [
  {
   "cell_type": "code",
   "execution_count": 1,
   "id": "b6bf8f9a-1c9a-431f-8fa3-005fe89181a6",
   "metadata": {
    "tags": []
   },
   "outputs": [
    {
     "name": "stdout",
     "output_type": "stream",
     "text": [
      "Collecting geopy\n",
      "  Downloading geopy-2.3.0-py3-none-any.whl (119 kB)\n",
      "     ---------------------------------------- 0.0/119.8 kB ? eta -:--:--\n",
      "     -------------------------------------- 119.8/119.8 kB 6.8 MB/s eta 0:00:00\n",
      "Collecting geographiclib<3,>=1.52\n",
      "  Downloading geographiclib-2.0-py3-none-any.whl (40 kB)\n",
      "     ---------------------------------------- 0.0/40.3 kB ? eta -:--:--\n",
      "     ---------------------------------------- 40.3/40.3 kB ? eta 0:00:00\n",
      "Installing collected packages: geographiclib, geopy\n",
      "Successfully installed geographiclib-2.0 geopy-2.3.0\n"
     ]
    }
   ],
   "source": [
    "!pip install geopy"
   ]
  },
  {
   "cell_type": "code",
   "execution_count": 2,
   "id": "9d968330-6ae8-4ec0-930a-ea0eaa314dbf",
   "metadata": {
    "tags": []
   },
   "outputs": [],
   "source": [
    "from geopy.geocoders import Nominatim"
   ]
  },
  {
   "cell_type": "code",
   "execution_count": 3,
   "id": "fddf0fd0-29b5-407d-a10d-7b358c315661",
   "metadata": {
    "tags": []
   },
   "outputs": [
    {
     "name": "stdout",
     "output_type": "stream",
     "text": [
      "Flatiron Building, 175, 5th Avenue, Manhattan Community Board 5, Manhattan, New York County, City of New York, New York, 10010, United States\n"
     ]
    }
   ],
   "source": [
    "geolocator = Nominatim(user_agent=\"web\")\n",
    "location = geolocator.geocode(\"175 5th Avenue NYC\")\n",
    "print(location.address)"
   ]
  },
  {
   "cell_type": "code",
   "execution_count": 4,
   "id": "c24723e4-6452-4338-9b85-86adaff1c147",
   "metadata": {
    "tags": []
   },
   "outputs": [
    {
     "data": {
      "text/plain": [
       "40.741059199999995"
      ]
     },
     "execution_count": 4,
     "metadata": {},
     "output_type": "execute_result"
    }
   ],
   "source": [
    "location.latitude"
   ]
  },
  {
   "cell_type": "code",
   "execution_count": 5,
   "id": "72d2d40e-1af3-496a-8bd7-1f8c104be2f7",
   "metadata": {
    "tags": []
   },
   "outputs": [
    {
     "data": {
      "text/plain": [
       "-73.98964162240998"
      ]
     },
     "execution_count": 5,
     "metadata": {},
     "output_type": "execute_result"
    }
   ],
   "source": [
    "location.longitude"
   ]
  },
  {
   "cell_type": "code",
   "execution_count": 6,
   "id": "a3a79652-a7b8-4956-bfce-05e7f365dd20",
   "metadata": {
    "tags": []
   },
   "outputs": [
    {
     "name": "stdout",
     "output_type": "stream",
     "text": [
      "35.158271150000004 126.795781369881 대한상공회의소 광주인력개발원, 37, 소촌로152번길, 소촌온세계아파트, 광산구, 광주, 62379, 대한민국\n"
     ]
    }
   ],
   "source": [
    "location = geolocator.geocode(\"광주광역시 광산구 소촌로152번길 37\")\n",
    "print(location.latitude,location.longitude,location.address)"
   ]
  },
  {
   "cell_type": "code",
   "execution_count": 7,
   "id": "35285364-5ddc-4b59-93ad-1944748968d2",
   "metadata": {
    "collapsed": true,
    "jupyter": {
     "outputs_hidden": true
    },
    "tags": []
   },
   "outputs": [
    {
     "data": {
      "text/plain": [
       "{'place_id': 210684969,\n",
       " 'licence': 'Data © OpenStreetMap contributors, ODbL 1.0. https://osm.org/copyright',\n",
       " 'osm_type': 'way',\n",
       " 'osm_id': 472475874,\n",
       " 'boundingbox': ['35.1574848', '35.1592417', '126.7943724', '126.7972005'],\n",
       " 'lat': '35.158271150000004',\n",
       " 'lon': '126.795781369881',\n",
       " 'display_name': '대한상공회의소 광주인력개발원, 37, 소촌로152번길, 소촌온세계아파트, 광산구, 광주, 62379, 대한민국',\n",
       " 'class': 'amenity',\n",
       " 'type': 'school',\n",
       " 'importance': 0.33001,\n",
       " 'icon': 'https://nominatim.openstreetmap.org/ui/mapicons/education_school.p.20.png'}"
      ]
     },
     "execution_count": 7,
     "metadata": {},
     "output_type": "execute_result"
    }
   ],
   "source": [
    "location.raw"
   ]
  },
  {
   "cell_type": "raw",
   "id": "ee15bba6-f3be-4b4d-98ae-0965a14151b4",
   "metadata": {},
   "source": [
    "curl -v -X GET \"https://dapi.kakao.com/v2/local/search/address.json\" \\\n",
    "  -H \"Authorization: KakaoAK ${REST_API_KEY}\" \\\n",
    "  --data-urlencode \"query=전북 삼성동 100\" "
   ]
  },
  {
   "cell_type": "code",
   "execution_count": 8,
   "id": "0fe564d3-f984-48b7-9c86-ca594a7a9079",
   "metadata": {
    "tags": []
   },
   "outputs": [],
   "source": [
    "REST_API_KEY =''"
   ]
  },
  {
   "cell_type": "code",
   "execution_count": 9,
   "id": "b296c384-b65b-4b4b-b9d3-4884c03e9124",
   "metadata": {
    "tags": []
   },
   "outputs": [],
   "source": [
    "import requests"
   ]
  },
  {
   "cell_type": "code",
   "execution_count": 16,
   "id": "ef920595-ba2e-4bf5-908e-867f53134907",
   "metadata": {
    "tags": []
   },
   "outputs": [
    {
     "data": {
      "text/plain": [
       "('35.1585158999773', '126.79600938096')"
      ]
     },
     "execution_count": 16,
     "metadata": {},
     "output_type": "execute_result"
    }
   ],
   "source": [
    "query ='광주광역시 광산구 소촌로152번길 37'\n",
    "url =f'https://dapi.kakao.com/v2/local/search/address.json?query={query}'\n",
    "header = {'Authorization':f'KakaoAK {REST_API_KEY}'}\n",
    "r = requests.get(url,headers=header)\n",
    "jsondata = r.json()\n",
    "jsondata['documents'][0]['address']['y'],jsondata['documents'][0]['address']['x']"
   ]
  },
  {
   "cell_type": "raw",
   "id": "35b91cc3-6334-422d-a457-3a9789909191",
   "metadata": {},
   "source": [
    "curl -v -X GET \"https://dapi.kakao.com/v2/local/search/keyword.json?y=37.514322572335935&x=127.06283102249932&radius=20000\" \\\n",
    "  -H \"Authorization: KakaoAK ${REST_API_KEY}\" \\\n",
    "  --data-urlencode \"query=카카오프렌즈\" "
   ]
  },
  {
   "cell_type": "code",
   "execution_count": 18,
   "id": "478ebb1c-a1bf-4c04-b399-52c8cb3254e4",
   "metadata": {
    "collapsed": true,
    "jupyter": {
     "outputs_hidden": true
    },
    "tags": []
   },
   "outputs": [
    {
     "data": {
      "text/plain": [
       "{'documents': [{'address_name': '서울 강남구 삼성동 159',\n",
       "   'category_group_code': '',\n",
       "   'category_group_name': '',\n",
       "   'category_name': '가정,생활 > 문구,사무용품 > 디자인문구 > 카카오프렌즈',\n",
       "   'distance': '418',\n",
       "   'id': '26338954',\n",
       "   'phone': '02-6002-1880',\n",
       "   'place_name': '카카오프렌즈 스타필드 코엑스몰점',\n",
       "   'place_url': 'http://place.map.kakao.com/26338954',\n",
       "   'road_address_name': '서울 강남구 영동대로 513',\n",
       "   'x': '127.059028716089',\n",
       "   'y': '37.5120756277877'}],\n",
       " 'meta': {'is_end': True,\n",
       "  'pageable_count': 1,\n",
       "  'same_name': {'keyword': '카카오프렌즈', 'region': [], 'selected_region': ''},\n",
       "  'total_count': 1}}"
      ]
     },
     "execution_count": 18,
     "metadata": {},
     "output_type": "execute_result"
    }
   ],
   "source": [
    "query ='카카오프렌즈'\n",
    "x=127.06283102249932\n",
    "y=37.514322572335935\n",
    "radius=2000\n",
    "url =f'https://dapi.kakao.com/v2/local/search/keyword.json?y={y}&x={x}&radius={radius}&query={query}'\n",
    "header = {'Authorization':f'KakaoAK {REST_API_KEY}'}\n",
    "r = requests.get(url,headers=header)\n",
    "jsondata = r.json()\n",
    "jsondata"
   ]
  },
  {
   "cell_type": "code",
   "execution_count": 19,
   "id": "d0ecc14c-e1f0-4475-af02-8e1a9c3a499d",
   "metadata": {
    "tags": []
   },
   "outputs": [
    {
     "data": {
      "text/plain": [
       "{'documents': [{'address_name': '광주 광산구 소촌동 752-6',\n",
       "   'category_group_code': 'PM9',\n",
       "   'category_group_name': '약국',\n",
       "   'category_name': '의료,건강 > 약국',\n",
       "   'distance': '357',\n",
       "   'id': '8870859',\n",
       "   'phone': '062-941-7975',\n",
       "   'place_name': '대명당약국',\n",
       "   'place_url': 'http://place.map.kakao.com/8870859',\n",
       "   'road_address_name': '광주 광산구 소촌로 146',\n",
       "   'x': '126.792293086965',\n",
       "   'y': '35.157474736868'},\n",
       "  {'address_name': '광주 광산구 소촌동 185',\n",
       "   'category_group_code': 'PM9',\n",
       "   'category_group_name': '약국',\n",
       "   'category_name': '의료,건강 > 약국',\n",
       "   'distance': '415',\n",
       "   'id': '26037849',\n",
       "   'phone': '',\n",
       "   'place_name': '디엠바이오',\n",
       "   'place_url': 'http://place.map.kakao.com/26037849',\n",
       "   'road_address_name': '광주 광산구 용아로 143',\n",
       "   'x': '126.799645167694',\n",
       "   'y': '35.1562612706407'},\n",
       "  {'address_name': '광주 광산구 우산동 1575-1',\n",
       "   'category_group_code': 'PM9',\n",
       "   'category_group_name': '약국',\n",
       "   'category_name': '의료,건강 > 약국',\n",
       "   'distance': '826',\n",
       "   'id': '173275069',\n",
       "   'phone': '062-962-0166',\n",
       "   'place_name': '글래스팜대학약국',\n",
       "   'place_url': 'http://place.map.kakao.com/173275069',\n",
       "   'road_address_name': '광주 광산구 용아로 234',\n",
       "   'x': '126.802181524052',\n",
       "   'y': '35.1639737600791'},\n",
       "  {'address_name': '광주 광산구 우산동 1604-2',\n",
       "   'category_group_code': 'PM9',\n",
       "   'category_group_name': '약국',\n",
       "   'category_name': '의료,건강 > 약국',\n",
       "   'distance': '837',\n",
       "   'id': '9226769',\n",
       "   'phone': '062-944-8495',\n",
       "   'place_name': '에덴약국',\n",
       "   'place_url': 'http://place.map.kakao.com/9226769',\n",
       "   'road_address_name': '광주 광산구 사암로171번길 52',\n",
       "   'x': '126.804991909506',\n",
       "   'y': '35.1600989636393'},\n",
       "  {'address_name': '광주 광산구 우산동 1573-6',\n",
       "   'category_group_code': 'PM9',\n",
       "   'category_group_name': '약국',\n",
       "   'category_name': '의료,건강 > 약국',\n",
       "   'distance': '903',\n",
       "   'id': '26583809',\n",
       "   'phone': '062-531-6123',\n",
       "   'place_name': '우리동네온누리약국',\n",
       "   'place_url': 'http://place.map.kakao.com/26583809',\n",
       "   'road_address_name': '광주 광산구 사암로215번길 85',\n",
       "   'x': '126.803494572011',\n",
       "   'y': '35.1638534025418'},\n",
       "  {'address_name': '광주 광산구 산정동 143-21',\n",
       "   'category_group_code': 'PM9',\n",
       "   'category_group_name': '약국',\n",
       "   'category_name': '의료,건강 > 약국',\n",
       "   'distance': '991',\n",
       "   'id': '99474834',\n",
       "   'phone': '062-952-2092',\n",
       "   'place_name': '종로당온누리약국',\n",
       "   'place_url': 'http://place.map.kakao.com/99474834',\n",
       "   'road_address_name': '광주 광산구 용아로 257',\n",
       "   'x': '126.80152187656707',\n",
       "   'y': '35.16622255848864'},\n",
       "  {'address_name': '광주 광산구 우산동 1571-1',\n",
       "   'category_group_code': 'PM9',\n",
       "   'category_group_name': '약국',\n",
       "   'category_name': '의료,건강 > 약국',\n",
       "   'distance': '984',\n",
       "   'id': '9791681',\n",
       "   'phone': '062-951-9987',\n",
       "   'place_name': '빛고을약국',\n",
       "   'place_url': 'http://place.map.kakao.com/9791681',\n",
       "   'road_address_name': '광주 광산구 월곡산정로 12',\n",
       "   'x': '126.80421467253548',\n",
       "   'y': '35.16428631854358'},\n",
       "  {'address_name': '광주 광산구 우산동 1578-3',\n",
       "   'category_group_code': 'PM9',\n",
       "   'category_group_name': '약국',\n",
       "   'category_name': '의료,건강 > 약국',\n",
       "   'distance': '1033',\n",
       "   'id': '27304117',\n",
       "   'phone': '062-266-5431',\n",
       "   'place_name': '동인약국',\n",
       "   'place_url': 'http://place.map.kakao.com/27304117',\n",
       "   'road_address_name': '광주 광산구 사암로215번길 51',\n",
       "   'x': '126.805479581028',\n",
       "   'y': '35.1636402802552'},\n",
       "  {'address_name': '광주 광산구 산정동 1010',\n",
       "   'category_group_code': 'PM9',\n",
       "   'category_group_name': '약국',\n",
       "   'category_name': '의료,건강 > 약국',\n",
       "   'distance': '1051',\n",
       "   'id': '272154380',\n",
       "   'phone': '062-953-0250',\n",
       "   'place_name': '한마음약국',\n",
       "   'place_url': 'http://place.map.kakao.com/272154380',\n",
       "   'road_address_name': '광주 광산구 손재로 1',\n",
       "   'x': '126.801392791676',\n",
       "   'y': '35.1669000771296'},\n",
       "  {'address_name': '광주 광산구 우산동 1571-1',\n",
       "   'category_group_code': 'PM9',\n",
       "   'category_group_name': '약국',\n",
       "   'category_name': '의료,건강 > 약국',\n",
       "   'distance': '1086',\n",
       "   'id': '9443595',\n",
       "   'phone': '062-951-3344',\n",
       "   'place_name': '진달래약국',\n",
       "   'place_url': 'http://place.map.kakao.com/9443595',\n",
       "   'road_address_name': '광주 광산구 월곡산정로 12',\n",
       "   'x': '126.80326039791',\n",
       "   'y': '35.1662902920269'},\n",
       "  {'address_name': '광주 광산구 우산동 1582-1',\n",
       "   'category_group_code': 'PM9',\n",
       "   'category_group_name': '약국',\n",
       "   'category_name': '의료,건강 > 약국',\n",
       "   'distance': '1216',\n",
       "   'id': '425227884',\n",
       "   'phone': '062-955-5652',\n",
       "   'place_name': '건강약국',\n",
       "   'place_url': 'http://place.map.kakao.com/425227884',\n",
       "   'road_address_name': '광주 광산구 사암로 211',\n",
       "   'x': '126.807987179116',\n",
       "   'y': '35.16337026794'},\n",
       "  {'address_name': '광주 광산구 우산동 1579-1',\n",
       "   'category_group_code': 'PM9',\n",
       "   'category_group_name': '약국',\n",
       "   'category_name': '의료,건강 > 약국',\n",
       "   'distance': '1100',\n",
       "   'id': '950290210',\n",
       "   'phone': '062-962-7876',\n",
       "   'place_name': '밝은명약국',\n",
       "   'place_url': 'http://place.map.kakao.com/950290210',\n",
       "   'road_address_name': '광주 광산구 사암로215번길 35',\n",
       "   'x': '126.80638855196042',\n",
       "   'y': '35.16358044402019'},\n",
       "  {'address_name': '광주 광산구 월곡동 612-24',\n",
       "   'category_group_code': 'PM9',\n",
       "   'category_group_name': '약국',\n",
       "   'category_name': '의료,건강 > 약국',\n",
       "   'distance': '1590',\n",
       "   'id': '9005522',\n",
       "   'phone': '062-951-2388',\n",
       "   'place_name': '무등약국',\n",
       "   'place_url': 'http://place.map.kakao.com/9005522',\n",
       "   'road_address_name': '광주 광산구 월곡산정로 79',\n",
       "   'x': '126.81077523606876',\n",
       "   'y': '35.166165256816214'},\n",
       "  {'address_name': '광주 광산구 우산동 1598-3',\n",
       "   'category_group_code': 'PM9',\n",
       "   'category_group_name': '약국',\n",
       "   'category_name': '의료,건강 > 약국',\n",
       "   'distance': '1163',\n",
       "   'id': '13544635',\n",
       "   'phone': '062-946-2520',\n",
       "   'place_name': '기쁨약국',\n",
       "   'place_url': 'http://place.map.kakao.com/13544635',\n",
       "   'road_address_name': '광주 광산구 사암로 172',\n",
       "   'x': '126.808622614001',\n",
       "   'y': '35.160126385771'},\n",
       "  {'address_name': '광주 광산구 우산동 1363-14',\n",
       "   'category_group_code': 'PM9',\n",
       "   'category_group_name': '약국',\n",
       "   'category_name': '의료,건강 > 약국',\n",
       "   'distance': '1606',\n",
       "   'id': '2008323971',\n",
       "   'phone': '062-959-1205',\n",
       "   'place_name': '약국산책',\n",
       "   'place_url': 'http://place.map.kakao.com/2008323971',\n",
       "   'road_address_name': '광주 광산구 풍영철길로 20-6',\n",
       "   'x': '126.812853118058',\n",
       "   'y': '35.1628010135645'}],\n",
       " 'meta': {'is_end': False,\n",
       "  'pageable_count': 41,\n",
       "  'same_name': {'keyword': '약국', 'region': [], 'selected_region': ''},\n",
       "  'total_count': 41}}"
      ]
     },
     "execution_count": 19,
     "metadata": {},
     "output_type": "execute_result"
    }
   ],
   "source": [
    "#광주인력개뱔원 주변 2km근방 약국\n",
    "query ='약국'\n",
    "x=126.79600938096\n",
    "y=35.1585158999773\n",
    "radius=2000\n",
    "code='PM9'\n",
    "url =f'https://dapi.kakao.com/v2/local/search/keyword.json?y={y}&x={x}&radius={radius}&query={query}&category_group_code={code}'\n",
    "header = {'Authorization':f'KakaoAK {REST_API_KEY}'}\n",
    "r = requests.get(url,headers=header)\n",
    "jsondata = r.json()\n",
    "jsondata"
   ]
  }
 ],
 "metadata": {
  "kernelspec": {
   "display_name": "Python 3 (ipykernel)",
   "language": "python",
   "name": "python3"
  },
  "language_info": {
   "codemirror_mode": {
    "name": "ipython",
    "version": 3
   },
   "file_extension": ".py",
   "mimetype": "text/x-python",
   "name": "python",
   "nbconvert_exporter": "python",
   "pygments_lexer": "ipython3",
   "version": "3.11.1"
  }
 },
 "nbformat": 4,
 "nbformat_minor": 5
}
